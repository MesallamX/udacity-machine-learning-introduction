{
 "cells": [
  {
   "cell_type": "markdown",
   "metadata": {},
   "source": [
    "# Project: Identify Customer Segments\n",
    "\n",
    "In this project, you will apply unsupervised learning techniques to identify segments of the population that form the core customer base for a mail-order sales company in Germany. These segments can then be used to direct marketing campaigns towards audiences that will have the highest expected rate of returns. The data that you will use has been provided by our partners at Bertelsmann Arvato Analytics, and represents a real-life data science task.\n",
    "\n",
    "This notebook will help you complete this task by providing a framework within which you will perform your analysis steps. In each step of the project, you will see some text describing the subtask that you will perform, followed by one or more code cells for you to complete your work. **Feel free to add additional code and markdown cells as you go along so that you can explore everything in precise chunks.** The code cells provided in the base template will outline only the major tasks, and will usually not be enough to cover all of the minor tasks that comprise it.\n",
    "\n",
    "It should be noted that while there will be precise guidelines on how you should handle certain tasks in the project, there will also be places where an exact specification is not provided. **There will be times in the project where you will need to make and justify your own decisions on how to treat the data.** These are places where there may not be only one way to handle the data. In real-life tasks, there may be many valid ways to approach an analysis task. One of the most important things you can do is clearly document your approach so that other scientists can understand the decisions you've made.\n",
    "\n",
    "At the end of most sections, there will be a Markdown cell labeled **Discussion**. In these cells, you will report your findings for the completed section, as well as document the decisions that you made in your approach to each subtask. **Your project will be evaluated not just on the code used to complete the tasks outlined, but also your communication about your observations and conclusions at each stage.**"
   ]
  },
  {
   "cell_type": "code",
   "execution_count": 17,
   "metadata": {},
   "outputs": [],
   "source": [
    "# import libraries here; add more as necessary\n",
    "import numpy as np\n",
    "import pandas as pd\n",
    "import matplotlib.pyplot as plt\n",
    "import seaborn as sns\n",
    "from sklearn.preprocessing import StandardScaler\n",
    "from sklearn.decomposition import PCA\n",
    "from sklearn.cluster import KMeans\n",
    "\n",
    "# import local modules\n",
    "from utilities import from_string_to_list\n",
    "\n",
    "# magic word for producing visualizations in notebook\n",
    "%matplotlib inline"
   ]
  },
  {
   "cell_type": "markdown",
   "metadata": {},
   "source": [
    "### Step 0: Load the Data\n",
    "\n",
    "There are four files associated with this project (not including this one):\n",
    "\n",
    "- `Udacity_AZDIAS_Subset.csv`: Demographics data for the general population of Germany; 891211 persons (rows) x 85 features (columns).\n",
    "- `Udacity_CUSTOMERS_Subset.csv`: Demographics data for customers of a mail-order company; 191652 persons (rows) x 85 features (columns).\n",
    "- `Data_Dictionary.md`: Detailed information file about the features in the provided datasets.\n",
    "- `AZDIAS_Feature_Summary.csv`: Summary of feature attributes for demographics data; 85 features (rows) x 4 columns\n",
    "\n",
    "Each row of the demographics files represents a single person, but also includes information outside of individuals, including information about their household, building, and neighborhood. You will use this information to cluster the general population into groups with similar demographic properties. Then, you will see how the people in the customers dataset fit into those created clusters. The hope here is that certain clusters are over-represented in the customers data, as compared to the general population; those over-represented clusters will be assumed to be part of the core userbase. This information can then be used for further applications, such as targeting for a marketing campaign.\n",
    "\n",
    "To start off with, load in the demographics data for the general population into a pandas DataFrame, and do the same for the feature attributes summary. Note for all of the `.csv` data files in this project: they're semicolon (`;`) delimited, so you'll need an additional argument in your [`read_csv()`](https://pandas.pydata.org/pandas-docs/stable/generated/pandas.read_csv.html) call to read in the data properly. Also, considering the size of the main dataset, it may take some time for it to load completely.\n",
    "\n",
    "Once the dataset is loaded, it's recommended that you take a little bit of time just browsing the general structure of the dataset and feature summary file. You'll be getting deep into the innards of the cleaning in the first major step of the project, so gaining some general familiarity can help you get your bearings."
   ]
  },
  {
   "cell_type": "code",
   "execution_count": 18,
   "metadata": {},
   "outputs": [],
   "source": [
    "# Number of rows to read from CSV file, set it to None to read the entire file\n",
    "nrows = None\n",
    "\n",
    "# Load in the general demographics data.\n",
    "azdias = pd.read_csv(\"Udacity_AZDIAS_Subset.csv\", sep=\";\", nrows=nrows)\n",
    "\n",
    "# Load in the feature summary file.\n",
    "feat_info = pd.read_csv(\"AZDIAS_Feature_Summary.csv\", sep=\";\")"
   ]
  },
  {
   "cell_type": "code",
   "execution_count": 5,
   "metadata": {
    "deletable": false,
    "editable": false,
    "run_control": {
     "frozen": true
    }
   },
   "outputs": [
    {
     "data": {
      "text/html": [
       "<div>\n",
       "<style scoped>\n",
       "    .dataframe tbody tr th:only-of-type {\n",
       "        vertical-align: middle;\n",
       "    }\n",
       "\n",
       "    .dataframe tbody tr th {\n",
       "        vertical-align: top;\n",
       "    }\n",
       "\n",
       "    .dataframe thead th {\n",
       "        text-align: right;\n",
       "    }\n",
       "</style>\n",
       "<table border=\"1\" class=\"dataframe\">\n",
       "  <thead>\n",
       "    <tr style=\"text-align: right;\">\n",
       "      <th></th>\n",
       "      <th>AGER_TYP</th>\n",
       "      <th>ALTERSKATEGORIE_GROB</th>\n",
       "      <th>ANREDE_KZ</th>\n",
       "      <th>CJT_GESAMTTYP</th>\n",
       "      <th>FINANZ_MINIMALIST</th>\n",
       "      <th>FINANZ_SPARER</th>\n",
       "      <th>FINANZ_VORSORGER</th>\n",
       "      <th>FINANZ_ANLEGER</th>\n",
       "      <th>FINANZ_UNAUFFAELLIGER</th>\n",
       "      <th>FINANZ_HAUSBAUER</th>\n",
       "      <th>...</th>\n",
       "      <th>PLZ8_ANTG1</th>\n",
       "      <th>PLZ8_ANTG2</th>\n",
       "      <th>PLZ8_ANTG3</th>\n",
       "      <th>PLZ8_ANTG4</th>\n",
       "      <th>PLZ8_BAUMAX</th>\n",
       "      <th>PLZ8_HHZ</th>\n",
       "      <th>PLZ8_GBZ</th>\n",
       "      <th>ARBEIT</th>\n",
       "      <th>ORTSGR_KLS9</th>\n",
       "      <th>RELAT_AB</th>\n",
       "    </tr>\n",
       "  </thead>\n",
       "  <tbody>\n",
       "    <tr>\n",
       "      <td>0</td>\n",
       "      <td>-1</td>\n",
       "      <td>2</td>\n",
       "      <td>1</td>\n",
       "      <td>2.0</td>\n",
       "      <td>3</td>\n",
       "      <td>4</td>\n",
       "      <td>3</td>\n",
       "      <td>5</td>\n",
       "      <td>5</td>\n",
       "      <td>3</td>\n",
       "      <td>...</td>\n",
       "      <td>NaN</td>\n",
       "      <td>NaN</td>\n",
       "      <td>NaN</td>\n",
       "      <td>NaN</td>\n",
       "      <td>NaN</td>\n",
       "      <td>NaN</td>\n",
       "      <td>NaN</td>\n",
       "      <td>NaN</td>\n",
       "      <td>NaN</td>\n",
       "      <td>NaN</td>\n",
       "    </tr>\n",
       "    <tr>\n",
       "      <td>1</td>\n",
       "      <td>-1</td>\n",
       "      <td>1</td>\n",
       "      <td>2</td>\n",
       "      <td>5.0</td>\n",
       "      <td>1</td>\n",
       "      <td>5</td>\n",
       "      <td>2</td>\n",
       "      <td>5</td>\n",
       "      <td>4</td>\n",
       "      <td>5</td>\n",
       "      <td>...</td>\n",
       "      <td>2.0</td>\n",
       "      <td>3.0</td>\n",
       "      <td>2.0</td>\n",
       "      <td>1.0</td>\n",
       "      <td>1.0</td>\n",
       "      <td>5.0</td>\n",
       "      <td>4.0</td>\n",
       "      <td>3.0</td>\n",
       "      <td>5.0</td>\n",
       "      <td>4.0</td>\n",
       "    </tr>\n",
       "    <tr>\n",
       "      <td>2</td>\n",
       "      <td>-1</td>\n",
       "      <td>3</td>\n",
       "      <td>2</td>\n",
       "      <td>3.0</td>\n",
       "      <td>1</td>\n",
       "      <td>4</td>\n",
       "      <td>1</td>\n",
       "      <td>2</td>\n",
       "      <td>3</td>\n",
       "      <td>5</td>\n",
       "      <td>...</td>\n",
       "      <td>3.0</td>\n",
       "      <td>3.0</td>\n",
       "      <td>1.0</td>\n",
       "      <td>0.0</td>\n",
       "      <td>1.0</td>\n",
       "      <td>4.0</td>\n",
       "      <td>4.0</td>\n",
       "      <td>3.0</td>\n",
       "      <td>5.0</td>\n",
       "      <td>2.0</td>\n",
       "    </tr>\n",
       "    <tr>\n",
       "      <td>3</td>\n",
       "      <td>2</td>\n",
       "      <td>4</td>\n",
       "      <td>2</td>\n",
       "      <td>2.0</td>\n",
       "      <td>4</td>\n",
       "      <td>2</td>\n",
       "      <td>5</td>\n",
       "      <td>2</td>\n",
       "      <td>1</td>\n",
       "      <td>2</td>\n",
       "      <td>...</td>\n",
       "      <td>2.0</td>\n",
       "      <td>2.0</td>\n",
       "      <td>2.0</td>\n",
       "      <td>0.0</td>\n",
       "      <td>1.0</td>\n",
       "      <td>3.0</td>\n",
       "      <td>4.0</td>\n",
       "      <td>2.0</td>\n",
       "      <td>3.0</td>\n",
       "      <td>3.0</td>\n",
       "    </tr>\n",
       "    <tr>\n",
       "      <td>4</td>\n",
       "      <td>-1</td>\n",
       "      <td>3</td>\n",
       "      <td>1</td>\n",
       "      <td>5.0</td>\n",
       "      <td>4</td>\n",
       "      <td>3</td>\n",
       "      <td>4</td>\n",
       "      <td>1</td>\n",
       "      <td>3</td>\n",
       "      <td>2</td>\n",
       "      <td>...</td>\n",
       "      <td>2.0</td>\n",
       "      <td>4.0</td>\n",
       "      <td>2.0</td>\n",
       "      <td>1.0</td>\n",
       "      <td>2.0</td>\n",
       "      <td>3.0</td>\n",
       "      <td>3.0</td>\n",
       "      <td>4.0</td>\n",
       "      <td>6.0</td>\n",
       "      <td>5.0</td>\n",
       "    </tr>\n",
       "  </tbody>\n",
       "</table>\n",
       "<p>5 rows × 85 columns</p>\n",
       "</div>"
      ],
      "text/plain": [
       "   AGER_TYP  ALTERSKATEGORIE_GROB  ANREDE_KZ  CJT_GESAMTTYP  \\\n",
       "0        -1                     2          1            2.0   \n",
       "1        -1                     1          2            5.0   \n",
       "2        -1                     3          2            3.0   \n",
       "3         2                     4          2            2.0   \n",
       "4        -1                     3          1            5.0   \n",
       "\n",
       "   FINANZ_MINIMALIST  FINANZ_SPARER  FINANZ_VORSORGER  FINANZ_ANLEGER  \\\n",
       "0                  3              4                 3               5   \n",
       "1                  1              5                 2               5   \n",
       "2                  1              4                 1               2   \n",
       "3                  4              2                 5               2   \n",
       "4                  4              3                 4               1   \n",
       "\n",
       "   FINANZ_UNAUFFAELLIGER  FINANZ_HAUSBAUER  ...  PLZ8_ANTG1  PLZ8_ANTG2  \\\n",
       "0                      5                 3  ...         NaN         NaN   \n",
       "1                      4                 5  ...         2.0         3.0   \n",
       "2                      3                 5  ...         3.0         3.0   \n",
       "3                      1                 2  ...         2.0         2.0   \n",
       "4                      3                 2  ...         2.0         4.0   \n",
       "\n",
       "   PLZ8_ANTG3  PLZ8_ANTG4  PLZ8_BAUMAX  PLZ8_HHZ  PLZ8_GBZ  ARBEIT  \\\n",
       "0         NaN         NaN          NaN       NaN       NaN     NaN   \n",
       "1         2.0         1.0          1.0       5.0       4.0     3.0   \n",
       "2         1.0         0.0          1.0       4.0       4.0     3.0   \n",
       "3         2.0         0.0          1.0       3.0       4.0     2.0   \n",
       "4         2.0         1.0          2.0       3.0       3.0     4.0   \n",
       "\n",
       "   ORTSGR_KLS9  RELAT_AB  \n",
       "0          NaN       NaN  \n",
       "1          5.0       4.0  \n",
       "2          5.0       2.0  \n",
       "3          3.0       3.0  \n",
       "4          6.0       5.0  \n",
       "\n",
       "[5 rows x 85 columns]"
      ]
     },
     "execution_count": 5,
     "metadata": {},
     "output_type": "execute_result"
    }
   ],
   "source": [
    "# Check the structure of the data after it's loaded (e.g. print the number of\n",
    "# rows and columns, print the first few rows).\n",
    "azdias.head()"
   ]
  },
  {
   "cell_type": "code",
   "execution_count": 6,
   "metadata": {
    "deletable": false,
    "editable": false,
    "run_control": {
     "frozen": true
    }
   },
   "outputs": [
    {
     "name": "stdout",
     "output_type": "stream",
     "text": [
      " Number of rows and columns (891221, 85)\n"
     ]
    }
   ],
   "source": [
    "print(f\" Number of rows and columns {azdias.shape}\")"
   ]
  },
  {
   "cell_type": "code",
   "execution_count": 7,
   "metadata": {
    "deletable": false,
    "editable": false,
    "run_control": {
     "frozen": true
    },
    "scrolled": false
   },
   "outputs": [
    {
     "data": {
      "image/png": "[encoded data removed]",
      "text/plain": [
       "<Figure size 1152x360 with 1 Axes>"
      ]
     },
     "metadata": {
      "needs_background": "light"
     },
     "output_type": "display_data"
    }
   ],
   "source": [
    "# A plot of NaN values per column\n",
    "nan_cl_sum = azdias.isnull().sum().sort_values(ascending=False)\n",
    "\n",
    "ax = nan_cl_sum[nan_cl_sum != 0].plot.bar(figsize=(16, 5))\n",
    "ax.set_title(\"NaN values per column\")\n",
    "ax.set_xlabel(\"Features\")\n",
    "ax.set_ylabel(\"Count\")\n",
    "plt.show()"
   ]
  },
  {
   "cell_type": "code",
   "execution_count": 8,
   "metadata": {
    "deletable": false,
    "editable": false,
    "run_control": {
     "frozen": true
    }
   },
   "outputs": [
    {
     "data": {
      "image/png": "[encoded data removed]",
      "text/plain": [
       "<Figure size 720x360 with 1 Axes>"
      ]
     },
     "metadata": {
      "needs_background": "light"
     },
     "output_type": "display_data"
    }
   ],
   "source": [
    "# Sum of NaN across columns\n",
    "nan_row_sum = azdias.isnull().sum(axis=\"columns\")\n",
    "\n",
    "# An histogram of missing values per rows\n",
    "ax = nan_row_sum.hist(figsize=(10, 5))\n",
    "ax.set_title(\"Histogram of NaN sum across columns\")\n",
    "ax.set_xlabel(\"Missing Values per Row\")\n",
    "ax.set_ylabel(\"Count\")\n",
    "plt.show()"
   ]
  },
  {
   "cell_type": "code",
   "execution_count": 9,
   "metadata": {
    "deletable": false,
    "editable": false,
    "run_control": {
     "frozen": true
    }
   },
   "outputs": [
    {
     "data": {
      "text/html": [
       "<div>\n",
       "<style scoped>\n",
       "    .dataframe tbody tr th:only-of-type {\n",
       "        vertical-align: middle;\n",
       "    }\n",
       "\n",
       "    .dataframe tbody tr th {\n",
       "        vertical-align: top;\n",
       "    }\n",
       "\n",
       "    .dataframe thead th {\n",
       "        text-align: right;\n",
       "    }\n",
       "</style>\n",
       "<table border=\"1\" class=\"dataframe\">\n",
       "  <thead>\n",
       "    <tr style=\"text-align: right;\">\n",
       "      <th></th>\n",
       "      <th>attribute</th>\n",
       "      <th>information_level</th>\n",
       "      <th>type</th>\n",
       "      <th>missing_or_unknown</th>\n",
       "    </tr>\n",
       "  </thead>\n",
       "  <tbody>\n",
       "    <tr>\n",
       "      <td>0</td>\n",
       "      <td>AGER_TYP</td>\n",
       "      <td>person</td>\n",
       "      <td>categorical</td>\n",
       "      <td>[-1,0]</td>\n",
       "    </tr>\n",
       "    <tr>\n",
       "      <td>1</td>\n",
       "      <td>ALTERSKATEGORIE_GROB</td>\n",
       "      <td>person</td>\n",
       "      <td>ordinal</td>\n",
       "      <td>[-1,0,9]</td>\n",
       "    </tr>\n",
       "    <tr>\n",
       "      <td>2</td>\n",
       "      <td>ANREDE_KZ</td>\n",
       "      <td>person</td>\n",
       "      <td>categorical</td>\n",
       "      <td>[-1,0]</td>\n",
       "    </tr>\n",
       "    <tr>\n",
       "      <td>3</td>\n",
       "      <td>CJT_GESAMTTYP</td>\n",
       "      <td>person</td>\n",
       "      <td>categorical</td>\n",
       "      <td>[0]</td>\n",
       "    </tr>\n",
       "    <tr>\n",
       "      <td>4</td>\n",
       "      <td>FINANZ_MINIMALIST</td>\n",
       "      <td>person</td>\n",
       "      <td>ordinal</td>\n",
       "      <td>[-1]</td>\n",
       "    </tr>\n",
       "  </tbody>\n",
       "</table>\n",
       "</div>"
      ],
      "text/plain": [
       "              attribute information_level         type missing_or_unknown\n",
       "0              AGER_TYP            person  categorical             [-1,0]\n",
       "1  ALTERSKATEGORIE_GROB            person      ordinal           [-1,0,9]\n",
       "2             ANREDE_KZ            person  categorical             [-1,0]\n",
       "3         CJT_GESAMTTYP            person  categorical                [0]\n",
       "4     FINANZ_MINIMALIST            person      ordinal               [-1]"
      ]
     },
     "execution_count": 9,
     "metadata": {},
     "output_type": "execute_result"
    }
   ],
   "source": [
    "feat_info.head()"
   ]
  },
  {
   "cell_type": "code",
   "execution_count": 10,
   "metadata": {
    "deletable": false,
    "editable": false,
    "run_control": {
     "frozen": true
    }
   },
   "outputs": [
    {
     "name": "stdout",
     "output_type": "stream",
     "text": [
      "Columns with information about person\n",
      "AGER_TYP; ALTERSKATEGORIE_GROB; ANREDE_KZ; CJT_GESAMTTYP; FINANZ_MINIMALIST; FINANZ_SPARER; FINANZ_VORSORGER; FINANZ_ANLEGER; FINANZ_UNAUFFAELLIGER; FINANZ_HAUSBAUER; FINANZTYP; GEBURTSJAHR; GFK_URLAUBERTYP; GREEN_AVANTGARDE; HEALTH_TYP; LP_LEBENSPHASE_FEIN; LP_LEBENSPHASE_GROB; LP_FAMILIE_FEIN; LP_FAMILIE_GROB; LP_STATUS_FEIN; LP_STATUS_GROB; NATIONALITAET_KZ; PRAEGENDE_JUGENDJAHRE; RETOURTYP_BK_S; SEMIO_SOZ; SEMIO_FAM; SEMIO_REL; SEMIO_MAT; SEMIO_VERT; SEMIO_LUST; SEMIO_ERL; SEMIO_KULT; SEMIO_RAT; SEMIO_KRIT; SEMIO_DOM; SEMIO_KAEM; SEMIO_PFLICHT; SEMIO_TRADV; SHOPPER_TYP; SOHO_KZ; TITEL_KZ; VERS_TYP; ZABEOTYP\n",
      "\n",
      "Columns with information about household\n",
      "ALTER_HH; ANZ_PERSONEN; ANZ_TITEL; HH_EINKOMMEN_SCORE; KK_KUNDENTYP; W_KEIT_KIND_HH; WOHNDAUER_2008\n",
      "\n",
      "Columns with information about building\n",
      "ANZ_HAUSHALTE_AKTIV; ANZ_HH_TITEL; GEBAEUDETYP; KONSUMNAEHE; MIN_GEBAEUDEJAHR; OST_WEST_KZ; WOHNLAGE\n",
      "\n",
      "Columns with information about microcell_rr4\n",
      "CAMEO_DEUG_2015; CAMEO_DEU_2015; CAMEO_INTL_2015\n",
      "\n",
      "Columns with information about microcell_rr3\n",
      "KBA05_ANTG1; KBA05_ANTG2; KBA05_ANTG3; KBA05_ANTG4; KBA05_BAUMAX; KBA05_GBZ\n",
      "\n",
      "Columns with information about postcode\n",
      "BALLRAUM; EWDICHTE; INNENSTADT\n",
      "\n",
      "Columns with information about region_rr1\n",
      "GEBAEUDETYP_RASTER; KKK; MOBI_REGIO; ONLINE_AFFINITAET; REGIOTYP\n",
      "\n",
      "Columns with information about macrocell_plz8\n",
      "KBA13_ANZAHL_PKW; PLZ8_ANTG1; PLZ8_ANTG2; PLZ8_ANTG3; PLZ8_ANTG4; PLZ8_BAUMAX; PLZ8_HHZ; PLZ8_GBZ\n",
      "\n",
      "Columns with information about community\n",
      "ARBEIT; ORTSGR_KLS9; RELAT_AB\n",
      "\n"
     ]
    }
   ],
   "source": [
    "for information_level in feat_info[\"information_level\"].unique():\n",
    "    print(f\"Columns with information about {information_level}\")\n",
    "    b = feat_info[\"information_level\"] == information_level\n",
    "    print(\"; \".join(feat_info[b][\"attribute\"].tolist()))\n",
    "    print()"
   ]
  },
  {
   "cell_type": "markdown",
   "metadata": {},
   "source": [
    "> **Tip**: Add additional cells to keep everything in reasonably-sized chunks! Keyboard shortcut `esc --> a` (press escape to enter command mode, then press the 'A' key) adds a new cell before the active cell, and `esc --> b` adds a new cell after the active cell. If you need to convert an active cell to a markdown cell, use `esc --> m` and to convert to a code cell, use `esc --> y`. \n",
    "\n",
    "## Step 1: Preprocessing\n",
    "\n",
    "### Step 1.1: Assess Missing Data\n",
    "\n",
    "The feature summary file contains a summary of properties for each demographics data column. You will use this file to help you make cleaning decisions during this stage of the project. First of all, you should assess the demographics data in terms of missing data. Pay attention to the following points as you perform your analysis, and take notes on what you observe. Make sure that you fill in the **Discussion** cell with your findings and decisions at the end of each step that has one!\n",
    "\n",
    "#### Step 1.1.1: Convert Missing Value Codes to NaNs\n",
    "The fourth column of the feature attributes summary (loaded in above as `feat_info`) documents the codes from the data dictionary that indicate missing or unknown data. While the file encodes this as a list (e.g. `[-1,0]`), this will get read in as a string object. You'll need to do a little bit of parsing to make use of it to identify and clean the data. Convert data that matches a 'missing' or 'unknown' value code into a numpy NaN value. You might want to see how much data takes on a 'missing' or 'unknown' code, and how much data is naturally missing, as a point of interest.\n",
    "\n",
    "**As one more reminder, you are encouraged to add additional cells to break up your analysis into manageable chunks.**"
   ]
  },
  {
   "cell_type": "code",
   "execution_count": 13,
   "metadata": {
    "deletable": false,
    "editable": false,
    "run_control": {
     "frozen": true
    }
   },
   "outputs": [
    {
     "name": "stdout",
     "output_type": "stream",
     "text": [
      "A total of 4896838 cells are naturally missing from the dataset.\n",
      "That is about 6.4641% of all the cells in the dataset.\n"
     ]
    }
   ],
   "source": [
    "# How much data is naturally missing\n",
    "print(f\"A total of {azdias.isnull().sum().sum()} cells are naturally missing from the dataset.\")\n",
    "print(f\"That is about {azdias.isnull().sum().sum()/azdias.size*100:.4f}% of all the cells in the dataset.\")"
   ]
  },
  {
   "cell_type": "code",
   "execution_count": 19,
   "metadata": {},
   "outputs": [],
   "source": [
    "# Identify missing or unknown data values and convert them to NaNs.\n",
    "\n",
    "# First I build a dataframe consisting of all the NaN placeholder for each feature\n",
    "nan_placeholder = feat_info[\"missing_or_unknown\"].transform(from_string_to_list).apply(pd.Series)\n",
    "nan_placeholder.set_index(feat_info[\"attribute\"], inplace=True)"
   ]
  },
  {
   "cell_type": "code",
   "execution_count": 11,
   "metadata": {
    "deletable": false,
    "editable": false,
    "run_control": {
     "frozen": true
    }
   },
   "outputs": [
    {
     "data": {
      "text/html": [
       "<div>\n",
       "<style scoped>\n",
       "    .dataframe tbody tr th:only-of-type {\n",
       "        vertical-align: middle;\n",
       "    }\n",
       "\n",
       "    .dataframe tbody tr th {\n",
       "        vertical-align: top;\n",
       "    }\n",
       "\n",
       "    .dataframe thead th {\n",
       "        text-align: right;\n",
       "    }\n",
       "</style>\n",
       "<table border=\"1\" class=\"dataframe\">\n",
       "  <thead>\n",
       "    <tr style=\"text-align: right;\">\n",
       "      <th></th>\n",
       "      <th>0</th>\n",
       "      <th>1</th>\n",
       "      <th>2</th>\n",
       "    </tr>\n",
       "    <tr>\n",
       "      <th>attribute</th>\n",
       "      <th></th>\n",
       "      <th></th>\n",
       "      <th></th>\n",
       "    </tr>\n",
       "  </thead>\n",
       "  <tbody>\n",
       "    <tr>\n",
       "      <td>AGER_TYP</td>\n",
       "      <td>-1</td>\n",
       "      <td>0</td>\n",
       "      <td>NaN</td>\n",
       "    </tr>\n",
       "    <tr>\n",
       "      <td>ALTERSKATEGORIE_GROB</td>\n",
       "      <td>-1</td>\n",
       "      <td>0</td>\n",
       "      <td>9</td>\n",
       "    </tr>\n",
       "    <tr>\n",
       "      <td>ANREDE_KZ</td>\n",
       "      <td>-1</td>\n",
       "      <td>0</td>\n",
       "      <td>NaN</td>\n",
       "    </tr>\n",
       "    <tr>\n",
       "      <td>CJT_GESAMTTYP</td>\n",
       "      <td>0</td>\n",
       "      <td>NaN</td>\n",
       "      <td>NaN</td>\n",
       "    </tr>\n",
       "    <tr>\n",
       "      <td>FINANZ_MINIMALIST</td>\n",
       "      <td>-1</td>\n",
       "      <td>NaN</td>\n",
       "      <td>NaN</td>\n",
       "    </tr>\n",
       "  </tbody>\n",
       "</table>\n",
       "</div>"
      ],
      "text/plain": [
       "                       0    1    2\n",
       "attribute                         \n",
       "AGER_TYP              -1    0  NaN\n",
       "ALTERSKATEGORIE_GROB  -1    0    9\n",
       "ANREDE_KZ             -1    0  NaN\n",
       "CJT_GESAMTTYP          0  NaN  NaN\n",
       "FINANZ_MINIMALIST     -1  NaN  NaN"
      ]
     },
     "execution_count": 11,
     "metadata": {},
     "output_type": "execute_result"
    }
   ],
   "source": [
    "nan_placeholder.head()"
   ]
  },
  {
   "cell_type": "code",
   "execution_count": 20,
   "metadata": {
    "scrolled": false
   },
   "outputs": [],
   "source": [
    "# Replace all placeholder with NaN\n",
    "\n",
    "for index, row in nan_placeholder.iterrows():\n",
    "    feature_name = index\n",
    "    values = pd.to_numeric(row, errors=\"ignore\").tolist()\n",
    "    azdias[feature_name].replace(to_replace=values, value=np.nan, inplace=True)"
   ]
  },
  {
   "cell_type": "code",
   "execution_count": 13,
   "metadata": {
    "deletable": false,
    "editable": false,
    "run_control": {
     "frozen": true
    }
   },
   "outputs": [
    {
     "data": {
      "text/html": [
       "<div>\n",
       "<style scoped>\n",
       "    .dataframe tbody tr th:only-of-type {\n",
       "        vertical-align: middle;\n",
       "    }\n",
       "\n",
       "    .dataframe tbody tr th {\n",
       "        vertical-align: top;\n",
       "    }\n",
       "\n",
       "    .dataframe thead th {\n",
       "        text-align: right;\n",
       "    }\n",
       "</style>\n",
       "<table border=\"1\" class=\"dataframe\">\n",
       "  <thead>\n",
       "    <tr style=\"text-align: right;\">\n",
       "      <th></th>\n",
       "      <th>AGER_TYP</th>\n",
       "      <th>ALTERSKATEGORIE_GROB</th>\n",
       "      <th>ANREDE_KZ</th>\n",
       "      <th>CJT_GESAMTTYP</th>\n",
       "      <th>FINANZ_MINIMALIST</th>\n",
       "      <th>FINANZ_SPARER</th>\n",
       "      <th>FINANZ_VORSORGER</th>\n",
       "      <th>FINANZ_ANLEGER</th>\n",
       "      <th>FINANZ_UNAUFFAELLIGER</th>\n",
       "      <th>FINANZ_HAUSBAUER</th>\n",
       "      <th>...</th>\n",
       "      <th>PLZ8_ANTG1</th>\n",
       "      <th>PLZ8_ANTG2</th>\n",
       "      <th>PLZ8_ANTG3</th>\n",
       "      <th>PLZ8_ANTG4</th>\n",
       "      <th>PLZ8_BAUMAX</th>\n",
       "      <th>PLZ8_HHZ</th>\n",
       "      <th>PLZ8_GBZ</th>\n",
       "      <th>ARBEIT</th>\n",
       "      <th>ORTSGR_KLS9</th>\n",
       "      <th>RELAT_AB</th>\n",
       "    </tr>\n",
       "  </thead>\n",
       "  <tbody>\n",
       "    <tr>\n",
       "      <td>0</td>\n",
       "      <td>NaN</td>\n",
       "      <td>2.0</td>\n",
       "      <td>1</td>\n",
       "      <td>2.0</td>\n",
       "      <td>3</td>\n",
       "      <td>4</td>\n",
       "      <td>3</td>\n",
       "      <td>5</td>\n",
       "      <td>5</td>\n",
       "      <td>3</td>\n",
       "      <td>...</td>\n",
       "      <td>NaN</td>\n",
       "      <td>NaN</td>\n",
       "      <td>NaN</td>\n",
       "      <td>NaN</td>\n",
       "      <td>NaN</td>\n",
       "      <td>NaN</td>\n",
       "      <td>NaN</td>\n",
       "      <td>NaN</td>\n",
       "      <td>NaN</td>\n",
       "      <td>NaN</td>\n",
       "    </tr>\n",
       "    <tr>\n",
       "      <td>1</td>\n",
       "      <td>NaN</td>\n",
       "      <td>1.0</td>\n",
       "      <td>2</td>\n",
       "      <td>5.0</td>\n",
       "      <td>1</td>\n",
       "      <td>5</td>\n",
       "      <td>2</td>\n",
       "      <td>5</td>\n",
       "      <td>4</td>\n",
       "      <td>5</td>\n",
       "      <td>...</td>\n",
       "      <td>2.0</td>\n",
       "      <td>3.0</td>\n",
       "      <td>2.0</td>\n",
       "      <td>1.0</td>\n",
       "      <td>1.0</td>\n",
       "      <td>5.0</td>\n",
       "      <td>4.0</td>\n",
       "      <td>3.0</td>\n",
       "      <td>5.0</td>\n",
       "      <td>4.0</td>\n",
       "    </tr>\n",
       "    <tr>\n",
       "      <td>2</td>\n",
       "      <td>NaN</td>\n",
       "      <td>3.0</td>\n",
       "      <td>2</td>\n",
       "      <td>3.0</td>\n",
       "      <td>1</td>\n",
       "      <td>4</td>\n",
       "      <td>1</td>\n",
       "      <td>2</td>\n",
       "      <td>3</td>\n",
       "      <td>5</td>\n",
       "      <td>...</td>\n",
       "      <td>3.0</td>\n",
       "      <td>3.0</td>\n",
       "      <td>1.0</td>\n",
       "      <td>0.0</td>\n",
       "      <td>1.0</td>\n",
       "      <td>4.0</td>\n",
       "      <td>4.0</td>\n",
       "      <td>3.0</td>\n",
       "      <td>5.0</td>\n",
       "      <td>2.0</td>\n",
       "    </tr>\n",
       "    <tr>\n",
       "      <td>3</td>\n",
       "      <td>2.0</td>\n",
       "      <td>4.0</td>\n",
       "      <td>2</td>\n",
       "      <td>2.0</td>\n",
       "      <td>4</td>\n",
       "      <td>2</td>\n",
       "      <td>5</td>\n",
       "      <td>2</td>\n",
       "      <td>1</td>\n",
       "      <td>2</td>\n",
       "      <td>...</td>\n",
       "      <td>2.0</td>\n",
       "      <td>2.0</td>\n",
       "      <td>2.0</td>\n",
       "      <td>0.0</td>\n",
       "      <td>1.0</td>\n",
       "      <td>3.0</td>\n",
       "      <td>4.0</td>\n",
       "      <td>2.0</td>\n",
       "      <td>3.0</td>\n",
       "      <td>3.0</td>\n",
       "    </tr>\n",
       "    <tr>\n",
       "      <td>4</td>\n",
       "      <td>NaN</td>\n",
       "      <td>3.0</td>\n",
       "      <td>1</td>\n",
       "      <td>5.0</td>\n",
       "      <td>4</td>\n",
       "      <td>3</td>\n",
       "      <td>4</td>\n",
       "      <td>1</td>\n",
       "      <td>3</td>\n",
       "      <td>2</td>\n",
       "      <td>...</td>\n",
       "      <td>2.0</td>\n",
       "      <td>4.0</td>\n",
       "      <td>2.0</td>\n",
       "      <td>1.0</td>\n",
       "      <td>2.0</td>\n",
       "      <td>3.0</td>\n",
       "      <td>3.0</td>\n",
       "      <td>4.0</td>\n",
       "      <td>6.0</td>\n",
       "      <td>5.0</td>\n",
       "    </tr>\n",
       "  </tbody>\n",
       "</table>\n",
       "<p>5 rows × 85 columns</p>\n",
       "</div>"
      ],
      "text/plain": [
       "   AGER_TYP  ALTERSKATEGORIE_GROB  ANREDE_KZ  CJT_GESAMTTYP  \\\n",
       "0       NaN                   2.0          1            2.0   \n",
       "1       NaN                   1.0          2            5.0   \n",
       "2       NaN                   3.0          2            3.0   \n",
       "3       2.0                   4.0          2            2.0   \n",
       "4       NaN                   3.0          1            5.0   \n",
       "\n",
       "   FINANZ_MINIMALIST  FINANZ_SPARER  FINANZ_VORSORGER  FINANZ_ANLEGER  \\\n",
       "0                  3              4                 3               5   \n",
       "1                  1              5                 2               5   \n",
       "2                  1              4                 1               2   \n",
       "3                  4              2                 5               2   \n",
       "4                  4              3                 4               1   \n",
       "\n",
       "   FINANZ_UNAUFFAELLIGER  FINANZ_HAUSBAUER  ...  PLZ8_ANTG1  PLZ8_ANTG2  \\\n",
       "0                      5                 3  ...         NaN         NaN   \n",
       "1                      4                 5  ...         2.0         3.0   \n",
       "2                      3                 5  ...         3.0         3.0   \n",
       "3                      1                 2  ...         2.0         2.0   \n",
       "4                      3                 2  ...         2.0         4.0   \n",
       "\n",
       "   PLZ8_ANTG3  PLZ8_ANTG4  PLZ8_BAUMAX  PLZ8_HHZ  PLZ8_GBZ  ARBEIT  \\\n",
       "0         NaN         NaN          NaN       NaN       NaN     NaN   \n",
       "1         2.0         1.0          1.0       5.0       4.0     3.0   \n",
       "2         1.0         0.0          1.0       4.0       4.0     3.0   \n",
       "3         2.0         0.0          1.0       3.0       4.0     2.0   \n",
       "4         2.0         1.0          2.0       3.0       3.0     4.0   \n",
       "\n",
       "   ORTSGR_KLS9  RELAT_AB  \n",
       "0          NaN       NaN  \n",
       "1          5.0       4.0  \n",
       "2          5.0       2.0  \n",
       "3          3.0       3.0  \n",
       "4          6.0       5.0  \n",
       "\n",
       "[5 rows x 85 columns]"
      ]
     },
     "execution_count": 13,
     "metadata": {},
     "output_type": "execute_result"
    }
   ],
   "source": [
    "# Dataframe after replacing placeholders with NaNs\n",
    "azdias.head()"
   ]
  },
  {
   "cell_type": "code",
   "execution_count": 14,
   "metadata": {
    "deletable": false,
    "editable": false,
    "run_control": {
     "frozen": true
    }
   },
   "outputs": [
    {
     "name": "stdout",
     "output_type": "stream",
     "text": [
      "A total of 8373929 cells are naturally missing from the dataset.\n",
      "That is about 11.0541% of all the cells in the dataset.\n"
     ]
    }
   ],
   "source": [
    "# How much data is missing after replacing placeholder values with np.nan\n",
    "\n",
    "print(f\"A total of {azdias.isnull().sum().sum()} cells are naturally missing from the dataset.\")\n",
    "print(f\"That is about {azdias.isnull().sum().sum()/azdias.size*100:.4f}% of all the cells in the dataset.\")"
   ]
  },
  {
   "cell_type": "markdown",
   "metadata": {},
   "source": [
    "#### Step 1.1.2: Assess Missing Data in Each Column\n",
    "\n",
    "How much missing data is present in each column? There are a few columns that are outliers in terms of the proportion of values that are missing. You will want to use matplotlib's [`hist()`](https://matplotlib.org/api/_as_gen/matplotlib.pyplot.hist.html) function to visualize the distribution of missing value counts to find these columns. Identify and document these columns. While some of these columns might have justifications for keeping or re-encoding the data, for this project you should just remove them from the dataframe. (Feel free to make remarks about these outlier columns in the discussion, however!)\n",
    "\n",
    "For the remaining features, are there any patterns in which columns have, or share, missing data?"
   ]
  },
  {
   "cell_type": "code",
   "execution_count": 21,
   "metadata": {},
   "outputs": [],
   "source": [
    "# Perform an assessment of how much missing data there is in each column of the\n",
    "# dataset.\n",
    "\n",
    "nan_cl_sum = azdias.isnull().sum().sort_values(ascending=False)"
   ]
  },
  {
   "cell_type": "code",
   "execution_count": 17,
   "metadata": {
    "deletable": false,
    "editable": false,
    "run_control": {
     "frozen": true
    }
   },
   "outputs": [
    {
     "data": {
      "image/png": "[encoded data removed]",
      "text/plain": [
       "<Figure size 1152x360 with 1 Axes>"
      ]
     },
     "metadata": {
      "needs_background": "light"
     },
     "output_type": "display_data"
    }
   ],
   "source": [
    "# Investigate patterns in the amount of missing data in each column.\n",
    "\n",
    "ax = nan_cl_sum[nan_cl_sum != 0].plot.bar(rot=90, figsize=(16, 5))\n",
    "ax.set_title(\"NaN values per column\")\n",
    "ax.set_xlabel(\"Features\")\n",
    "ax.set_ylabel(\"Count\")\n",
    "plt.show()"
   ]
  },
  {
   "cell_type": "code",
   "execution_count": 22,
   "metadata": {},
   "outputs": [],
   "source": [
    "# Remove the outlier columns from the dataset. (You'll perform other data\n",
    "# engineering tasks such as re-encoding and imputation later.)\n",
    "\n",
    "azdias.drop(columns=nan_cl_sum.nlargest(7).index, inplace=True)"
   ]
  },
  {
   "cell_type": "markdown",
   "metadata": {},
   "source": [
    "#### Discussion 1.1.2: Assess Missing Data in Each Column\n",
    "\n",
    "The plot bar above shows us the number of NaN values for each column of the dataframe, on the y-axis we have the total count of missing values and on the x-axis the columns. From this plot representation we can see that the first seven columns have a much higher count of missing values compared to the other columns. The other columns have a comparable number of missing values between them, with the exception of some columns that have a count near zero.\n",
    "\n",
    "We choose to remove the seven columns with the higher missing values count, these are the following columns:\n",
    "\n",
    "(Double click this cell and replace this text with your own text, reporting your observations regarding the amount of missing data in each column. Are there any patterns in missing values? Which columns were removed from the dataset?)"
   ]
  },
  {
   "cell_type": "code",
   "execution_count": 19,
   "metadata": {
    "deletable": false,
    "editable": false,
    "run_control": {
     "frozen": true
    }
   },
   "outputs": [
    {
     "name": "stdout",
     "output_type": "stream",
     "text": [
      "Columns removed from the dataframe: TITEL_KZ, AGER_TYP, KK_KUNDENTYP, KBA05_BAUMAX, GEBURTSJAHR, ALTER_HH, REGIOTYP\n"
     ]
    }
   ],
   "source": [
    "print( \"Columns removed from the dataframe: \" +\n",
    "    \", \".join(nan_cl_sum.nlargest(7).index.tolist()))"
   ]
  },
  {
   "cell_type": "markdown",
   "metadata": {},
   "source": [
    "#### Step 1.1.3: Assess Missing Data in Each Row\n",
    "\n",
    "Now, you'll perform a similar assessment for the rows of the dataset. How much data is missing in each row? As with the columns, you should see some groups of points that have a very different numbers of missing values. Divide the data into two subsets: one for data points that are above some threshold for missing values, and a second subset for points below that threshold.\n",
    "\n",
    "In order to know what to do with the outlier rows, we should see if the distribution of data values on columns that are not missing data (or are missing very little data) are similar or different between the two groups. Select at least five of these columns and compare the distribution of values.\n",
    "- You can use seaborn's [`countplot()`](https://seaborn.pydata.org/generated/seaborn.countplot.html) function to create a bar chart of code frequencies and matplotlib's [`subplot()`](https://matplotlib.org/api/_as_gen/matplotlib.pyplot.subplot.html) function to put bar charts for the two subplots side by side.\n",
    "- To reduce repeated code, you might want to write a function that can perform this comparison, taking as one of its arguments a column to be compared.\n",
    "\n",
    "Depending on what you observe in your comparison, this will have implications on how you approach your conclusions later in the analysis. If the distributions of non-missing features look similar between the data with many missing values and the data with few or no missing values, then we could argue that simply dropping those points from the analysis won't present a major issue. On the other hand, if the data with many missing values looks very different from the data with few or no missing values, then we should make a note on those data as special. We'll revisit these data later on. **Either way, you should continue your analysis for now using just the subset of the data with few or no missing values.**"
   ]
  },
  {
   "cell_type": "code",
   "execution_count": 23,
   "metadata": {},
   "outputs": [],
   "source": [
    "# Write code to divide the data into two subsets based on the number of missing\n",
    "# values in each row.\n",
    "\n",
    "threshold = .10\n",
    "nan_row_sum = azdias.isnull().sum(axis=\"columns\")\n",
    "rows_mask = nan_row_sum/len(azdias.columns) > threshold"
   ]
  },
  {
   "cell_type": "code",
   "execution_count": 24,
   "metadata": {},
   "outputs": [],
   "source": [
    "# Assert that the sum of the dimensions is the original dataset size\n",
    "\n",
    "assert azdias[rows_mask].size + azdias[~rows_mask].size == azdias.size"
   ]
  },
  {
   "cell_type": "code",
   "execution_count": 25,
   "metadata": {},
   "outputs": [
    {
     "name": "stdout",
     "output_type": "stream",
     "text": [
      "The first five columns with the highest variance: LP_FAMILIE_FEIN, GFK_URLAUBERTYP, LP_STATUS_FEIN, GEBAEUDETYP, FINANZTYP\n"
     ]
    }
   ],
   "source": [
    "categorical_columns = feat_info[feat_info['type'] == \"categorical\"].attribute\n",
    "categorical_columns = categorical_columns[categorical_columns.isin(azdias.columns)]\n",
    "columns_to_compare = azdias[categorical_columns].var().nlargest(5).index.tolist()\n",
    "\n",
    "print(\"The first five columns with the highest variance: \" + \", \".join(columns_to_compare))"
   ]
  },
  {
   "cell_type": "code",
   "execution_count": 26,
   "metadata": {},
   "outputs": [],
   "source": [
    "# Define an utility to compare the number of missing values for a column between datasets\n",
    "\n",
    "def compare_missing_values(first, second, column, index):\n",
    "    \"\"\"\n",
    "    Compare the total count of NaNs values for the same colum in the two Dataframe passed as arguments.\n",
    "    \"\"\"\n",
    "    \n",
    "    ax = plt.subplot(len(columns_to_compare), 2, 2*index + 1)\n",
    "    ax.set_title(\"First dataset\")\n",
    "    sns.countplot(x=column, data=azdias[rows_mask], ax=ax)\n",
    "    ax = plt.subplot(len(columns_to_compare), 2, 2*index + 2)\n",
    "    ax.set_title(\"Second dataset\")\n",
    "    sns.countplot(x=column, data=azdias[~rows_mask], ax=ax)"
   ]
  },
  {
   "cell_type": "code",
   "execution_count": 24,
   "metadata": {
    "deletable": false,
    "editable": false,
    "run_control": {
     "frozen": true
    }
   },
   "outputs": [
    {
     "name": "stdout",
     "output_type": "stream",
     "text": [
      "The dataset on the left is composed by all the row with more than 10% of missing values.\n",
      "The dataset on the right is composed by all the row with less than 10% of missing values.\n"
     ]
    },
    {
     "data": {
      "image/png": "[encoded data removed]",
      "text/plain": [
       "<Figure size 1080x2160 with 10 Axes>"
      ]
     },
     "metadata": {
      "needs_background": "light"
     },
     "output_type": "display_data"
    }
   ],
   "source": [
    "# Compare the distribution of values for at least five columns where there are\n",
    "# no or few missing values, between the two subsets.\n",
    "\n",
    "print(\"The dataset on the left is composed by all the row with more than 10% of missing values.\")\n",
    "print(\"The dataset on the right is composed by all the row with less than 10% of missing values.\")\n",
    "\n",
    "plt.figure(figsize=(15,30))\n",
    "for index, column in enumerate(columns_to_compare):\n",
    "    compare_missing_values(azdias[rows_mask], azdias[~rows_mask], column, index)\n",
    "plt.show()"
   ]
  },
  {
   "cell_type": "code",
   "execution_count": 27,
   "metadata": {},
   "outputs": [],
   "source": [
    "# Remove all rows with more than 10% of data missing\n",
    "azdias = azdias[~rows_mask]"
   ]
  },
  {
   "cell_type": "markdown",
   "metadata": {},
   "source": [
    "#### Discussion 1.1.3: Assess Missing Data in Each Row\n",
    "\n",
    "We diveded the datset into two groups of rows, the first one is composed by all rows with more than 10% of missing features and the other one is complementary to the first one. We then choose five features to compare between the two dataset, these are: LP_FAMILIE_FEIN, GFK_URLAUBERTYP, LP_STATUS_FEIN, GEBAEUDETYP, FINANZTYP.\n",
    "\n",
    "The plot above shows us the comparison between the distribution of values for each of the selected feature. From this plot we can see that the two groups have a different distribution of values for some features, for example FINANZTYP and GFK_URLAUBERTYP."
   ]
  },
  {
   "cell_type": "markdown",
   "metadata": {},
   "source": [
    "### Step 1.2: Select and Re-Encode Features\n",
    "\n",
    "Checking for missing data isn't the only way in which you can prepare a dataset for analysis. Since the unsupervised learning techniques to be used will only work on data that is encoded numerically, you need to make a few encoding changes or additional assumptions to be able to make progress. In addition, while almost all of the values in the dataset are encoded using numbers, not all of them represent numeric values. Check the third column of the feature summary (`feat_info`) for a summary of types of measurement.\n",
    "- For numeric and interval data, these features can be kept without changes.\n",
    "- Most of the variables in the dataset are ordinal in nature. While ordinal values may technically be non-linear in spacing, make the simplifying assumption that the ordinal variables can be treated as being interval in nature (that is, kept without any changes).\n",
    "- Special handling may be necessary for the remaining two variable types: categorical, and 'mixed'.\n",
    "\n",
    "In the first two parts of this sub-step, you will perform an investigation of the categorical and mixed-type features and make a decision on each of them, whether you will keep, drop, or re-encode each. Then, in the last part, you will create a new data frame with only the selected and engineered columns.\n",
    "\n",
    "Data wrangling is often the trickiest part of the data analysis process, and there's a lot of it to be done here. But stick with it: once you're done with this step, you'll be ready to get to the machine learning parts of the project!"
   ]
  },
  {
   "cell_type": "code",
   "execution_count": 26,
   "metadata": {
    "deletable": false,
    "editable": false,
    "run_control": {
     "frozen": true
    }
   },
   "outputs": [
    {
     "data": {
      "image/png": "[encoded data removed]",
      "text/plain": [
       "<Figure size 432x288 with 1 Axes>"
      ]
     },
     "metadata": {
      "needs_background": "light"
     },
     "output_type": "display_data"
    }
   ],
   "source": [
    "# How many features are there of each data type?\n",
    "\n",
    "ax = feat_info[\"type\"].hist()\n",
    "ax.set_title(\"Count plot of data types\")\n",
    "ax.set_ylabel(\"Count\")\n",
    "plt.show()"
   ]
  },
  {
   "cell_type": "markdown",
   "metadata": {},
   "source": [
    "#### Step 1.2.1: Re-Encode Categorical Features\n",
    "\n",
    "For categorical data, you would ordinarily need to encode the levels as dummy variables. Depending on the number of categories, perform one of the following:\n",
    "- For binary (two-level) categoricals that take numeric values, you can keep them without needing to do anything.\n",
    "- There is one binary variable that takes on non-numeric values. For this one, you need to re-encode the values as numbers or create a dummy variable.\n",
    "- For multi-level categoricals (three or more values), you can choose to encode the values using multiple dummy variables (e.g. via [OneHotEncoder](http://scikit-learn.org/stable/modules/generated/sklearn.preprocessing.OneHotEncoder.html)), or (to keep things straightforward) just drop them from the analysis. As always, document your choices in the Discussion section."
   ]
  },
  {
   "cell_type": "code",
   "execution_count": 28,
   "metadata": {
    "scrolled": true
   },
   "outputs": [
    {
     "name": "stdout",
     "output_type": "stream",
     "text": [
      "The following are binary categorical variables:\n",
      "ANREDE_KZ; GREEN_AVANTGARDE; SOHO_KZ; VERS_TYP; OST_WEST_KZ\n",
      "\n",
      "The following are a multi-level categorical variables\n",
      "CJT_GESAMTTYP; FINANZTYP; GFK_URLAUBERTYP; LP_FAMILIE_FEIN; LP_FAMILIE_GROB; LP_STATUS_FEIN; LP_STATUS_GROB; NATIONALITAET_KZ; SHOPPER_TYP; ZABEOTYP; GEBAEUDETYP; CAMEO_DEUG_2015; CAMEO_DEU_2015\n"
     ]
    }
   ],
   "source": [
    "# Assess categorical variables: which are binary, which are multi-level, and\n",
    "# which one needs to be re-encoded?\n",
    "categorical_columns = feat_info[\"attribute\"][feat_info[\"type\"] == \"categorical\"]\n",
    "\n",
    "binaries_categorical = []\n",
    "multi_categorical = []\n",
    "\n",
    "for column in categorical_columns:\n",
    "    if column in azdias:\n",
    "        if azdias[column].nunique() == 2:\n",
    "            binaries_categorical.append(column)\n",
    "        else:\n",
    "            multi_categorical.append(column)\n",
    "        \n",
    "print(f\"The following are binary categorical variables:\")\n",
    "print('; '.join(binaries_categorical))\n",
    "print()\n",
    "print(f\"The following are a multi-level categorical variables\")\n",
    "print('; '.join(multi_categorical))"
   ]
  },
  {
   "cell_type": "code",
   "execution_count": 29,
   "metadata": {},
   "outputs": [],
   "source": [
    "to_be_encoded = [\"CJT_GESAMTTYP\", \"FINANZTYP\", \"LP_FAMILIE_GROB\", \n",
    "                 \"LP_STATUS_GROB\", \"NATIONALITAET_KZ\", \"SHOPPER_TYP\",\n",
    "                 \"ZABEOTYP\", \"GEBAEUDETYP\", \"CAMEO_DEUG_2015\", \"GFK_URLAUBERTYP\", \"OST_WEST_KZ\"]\n",
    "\n",
    "to_be_dropped = [\"LP_FAMILIE_FEIN\", \"LP_STATUS_FEIN\", \"CAMEO_DEU_2015\"]"
   ]
  },
  {
   "cell_type": "code",
   "execution_count": 30,
   "metadata": {},
   "outputs": [],
   "source": [
    "# Drop columns\n",
    "\n",
    "for drop in to_be_dropped:\n",
    "    azdias.drop([drop], axis=1, inplace=True)"
   ]
  },
  {
   "cell_type": "code",
   "execution_count": 31,
   "metadata": {},
   "outputs": [],
   "source": [
    "# Re-encode categorical variable(s) to be kept in the analysis.\n",
    "\n",
    "def dummy(df, column):\n",
    "    # Create the dummy columns and concat them to the dataframe\n",
    "    df = pd.concat([df, pd.get_dummies(df[column], prefix=column)], axis=1)\n",
    "\n",
    "    # Now drop the original column in place\n",
    "    df.drop([column], axis=1, inplace=True)\n",
    "    return df\n",
    "\n",
    "for column in to_be_encoded:\n",
    "    azdias = dummy(azdias, column)"
   ]
  },
  {
   "cell_type": "markdown",
   "metadata": {},
   "source": [
    "#### Discussion 1.2.1: Re-Encode Categorical Features\n",
    "\n",
    "In this step of the process we decided which categorical feature to keep and which ones to drop, after we encoded each features with dummy columns.\n",
    "\n",
    "The following are the categorical features we kept:\n",
    "\n",
    "- ANREDE_KZ: Gender;\n",
    "- GREEN_AVANTGARDE: Membership in environmental sustainability as part of youth;\n",
    "- SOHO_KZ: Small office / home office flag;\n",
    "- VERS_TYP: Insurance typology;\n",
    "- OST_WEST_KZ: Building location via former East / West Germany (GDR / FRG);\n",
    "- CJT_GESAMTTYP: Customer-Journey-Typology: preferred information and buying channels for consumer;\n",
    "- FINANZTYP: Most descriptive financial type for individual;\n",
    "- LP_FAMILIE_GROB: Family type, rough scale;\n",
    "- LP_STATUS_GROB: Social status, rough scale;\n",
    "- NATIONALITAET_KZ: Nationality based on given name analysis;\n",
    "- SHOPPER_TYP: Shopper typology;\n",
    "- ZABEOTYP: Energy consumption typology;\n",
    "- GEBAEUDETYP: Type of building;\n",
    "- CAMEO_DEUG_2015: German CAMEO: Wealth / Life Stage Typology, rough scale;\n",
    "\n",
    "The following are the ones we dropped:\n",
    "\n",
    "- LP_FAMILIE_FEIN: Family type, fine scale;\n",
    "- LP_STATUS_FEIN: Social status, fine scale;\n",
    "- CAMEO_DEU_2015: German CAMEO: Wealth / Life Stage Typology, detailed scale;\n",
    "\n",
    "These features have a corrisponding column with a rough scale. We decided to drop these features because we think that the rough scale is sufficient to our objective and we didn't want to increase the dimensionality of the problem and thus decresing the value of our conclusions."
   ]
  },
  {
   "cell_type": "markdown",
   "metadata": {},
   "source": [
    "#### Step 1.2.2: Engineer Mixed-Type Features\n",
    "\n",
    "There are a handful of features that are marked as \"mixed\" in the feature summary that require special treatment in order to be included in the analysis. There are two in particular that deserve attention; the handling of the rest are up to your own choices:\n",
    "- \"PRAEGENDE_JUGENDJAHRE\" combines information on three dimensions: generation by decade, movement (mainstream vs. avantgarde), and nation (east vs. west). While there aren't enough levels to disentangle east from west, you should create two new variables to capture the other two dimensions: an interval-type variable for decade, and a binary variable for movement.\n",
    "- \"CAMEO_INTL_2015\" combines information on two axes: wealth and life stage. Break up the two-digit codes by their 'tens'-place and 'ones'-place digits into two new ordinal variables (which, for the purposes of this project, is equivalent to just treating them as their raw numeric values).\n",
    "- If you decide to keep or engineer new features around the other mixed-type features, make sure you note your steps in the Discussion section.\n",
    "\n",
    "Be sure to check `Data_Dictionary.md` for the details needed to finish these tasks."
   ]
  },
  {
   "cell_type": "code",
   "execution_count": 31,
   "metadata": {
    "deletable": false,
    "editable": false,
    "run_control": {
     "frozen": true
    }
   },
   "outputs": [
    {
     "name": "stdout",
     "output_type": "stream",
     "text": [
      "The following are mixed variables:\n",
      "LP_LEBENSPHASE_FEIN; LP_LEBENSPHASE_GROB; PRAEGENDE_JUGENDJAHRE; WOHNLAGE; CAMEO_INTL_2015; KBA05_BAUMAX; PLZ8_BAUMAX\n"
     ]
    }
   ],
   "source": [
    "print(f\"The following are mixed variables:\")\n",
    "print('; '.join(feat_info[\"attribute\"][feat_info[\"type\"] == \"mixed\"]))"
   ]
  },
  {
   "cell_type": "code",
   "execution_count": 32,
   "metadata": {},
   "outputs": [],
   "source": [
    "def encode_mixed(df, column, rules):\n",
    "    \"\"\"\n",
    "    Encode a mixed variables according to rules mapping\n",
    "    \"\"\"\n",
    "    \n",
    "    for key, values in rules.items():\n",
    "        df[f\"{column}_{key}\"] = df[column].isin(values).astype(int)\n",
    "\n",
    "    df.drop([column], axis=1, inplace=True)\n",
    "    return df"
   ]
  },
  {
   "cell_type": "code",
   "execution_count": 33,
   "metadata": {},
   "outputs": [
    {
     "name": "stdout",
     "output_type": "stream",
     "text": [
      "Encoding mixed variable PRAEGENDE_JUGENDJAHRE\n"
     ]
    }
   ],
   "source": [
    "# Investigate \"PRAEGENDE_JUGENDJAHRE\" and engineer two new variables.\n",
    "\n",
    "if \"PRAEGENDE_JUGENDJAHRE\" in azdias.columns:\n",
    "    print(\"Encoding mixed variable PRAEGENDE_JUGENDJAHRE\")\n",
    "    azdias = encode_mixed(azdias, \"PRAEGENDE_JUGENDJAHRE\", {\n",
    "        \"40s\": [1, 2],\n",
    "        \"50s\": [3, 4],\n",
    "        \"60s\": [6, 7],\n",
    "        \"70s\": [8, 9],\n",
    "        \"80s\": [10, 11, 12, 13],\n",
    "        \"90s\": [14, 15],\n",
    "        \"Mainstream\": [1, 3, 5, 8, 10, 12, 14]\n",
    "    })"
   ]
  },
  {
   "cell_type": "code",
   "execution_count": 34,
   "metadata": {},
   "outputs": [
    {
     "name": "stdout",
     "output_type": "stream",
     "text": [
      "Encoding mixed variable CAMEO_INTL_2015\n"
     ]
    }
   ],
   "source": [
    "# Investigate \"CAMEO_INTL_2015\" and engineer two new variables.\n",
    "\n",
    "if \"CAMEO_INTL_2015\" in azdias.columns:\n",
    "    print(\"Encoding mixed variable CAMEO_INTL_2015\")\n",
    "\n",
    "    azdias = encode_mixed(azdias, \"CAMEO_INTL_2015\", {\n",
    "        \"Wealthy\": [11, 12, 13, 14, 15],\n",
    "        \"Prosperous\": [11, 12, 13, 14, 15],\n",
    "        \"Comfortable\": [11, 12, 13, 14, 15],\n",
    "        \"Less Affluent\": [11, 12, 13, 14, 15],\n",
    "        \"Poorer\": [11, 12, 13, 14, 15],\n",
    "        \"Pre-Family Couples & Singles\": [11, 21, 31, 41, 51],\n",
    "        \"Young Couples With Children\": [12, 22, 32, 42, 52],\n",
    "        \"Families With School Age Children\": [13, 23, 33, 43, 53],\n",
    "        \"Older Families &  Mature Couples\": [14, 24, 34, 44, 54],\n",
    "        \"Elders In Retirement\": [15, 25, 35, 45, 55]\n",
    "    })"
   ]
  },
  {
   "cell_type": "code",
   "execution_count": 35,
   "metadata": {},
   "outputs": [
    {
     "name": "stdout",
     "output_type": "stream",
     "text": [
      "Encoding mixed variable WOHNLAGE\n"
     ]
    }
   ],
   "source": [
    "if \"WOHNLAGE\" in azdias.columns:\n",
    "    print(\"Encoding mixed variable WOHNLAGE\")\n",
    "    \n",
    "    azdias = encode_mixed(azdias, \"WOHNLAGE\", {\n",
    "        \"Very good neighborhood\": [1],\n",
    "        \"Good neighborhood\": [2],\n",
    "        \"Average neighborhood\": [3],\n",
    "        \"Poor neighborhood\": [4],\n",
    "        \"Very poor neighborhood\": [5],\n",
    "        \"Rural neighborhood\": [7],\n",
    "        \"New in rural neighborhood\": [8],\n",
    "    })"
   ]
  },
  {
   "cell_type": "code",
   "execution_count": 36,
   "metadata": {},
   "outputs": [],
   "source": [
    "to_be_dropped = [\"KBA05_BAUMAX\", \"PLZ8_BAUMAX\", \"LP_LEBENSPHASE_FEIN\", \"LP_LEBENSPHASE_GROB\"]\n",
    "\n",
    "for column in to_be_dropped:\n",
    "    if column in azdias.columns:\n",
    "        azdias.drop(column, axis=1, inplace=True)"
   ]
  },
  {
   "cell_type": "markdown",
   "metadata": {},
   "source": [
    "#### Discussion 1.2.2: Engineer Mixed-Type Features\n",
    "\n",
    "The following are the columns we kept:\n",
    "\n",
    "- PRAEGENDE_JUGENDJAHRE: Dominating movement of person's youth (avantgarde vs. mainstream; east vs. west);\n",
    "- WOHNLAGE: Neighborhood quality (or rural flag);\n",
    "- CAMEO_INTL_2015: German CAMEO: Wealth / Life Stage Typology, mapped to international code;\n",
    "\n",
    "The following are the columns we dropped:\n",
    "- LP_LEBENSPHASE_FEIN: Life stage, fine scale;\n",
    "- LP_LEBENSPHASE_GROB: Life stage, rough scale;\n",
    "- KBA05_BAUMAX: Most common building type within the microcell;\n",
    "- PLZ8_BAUMAX: Most common building type within the PLZ8 region\n",
    "\n",
    "We decided to drop LP_LEBENSPHASE_FEIN and LP_LEBENSPHASE_GROB beacause the column CAMEO_INTL_2015 already encode this kind of informations altough with a different granularty.\n",
    "\n",
    "We decided to drop KBA05_BAUMAX because the columns KBA05_ANTG1, KBA05_ANTG2, KBA05_ANTG3, KBA05_ANTG4 already carry informations about the building types.\n",
    "\n",
    "We decided to drop PLZ8_BAUMAX because the columns PLZ8_ANTG1, PLZ8_ANTG2, PLZ8_ANTG3, PLZ8_ANTG4 already have these information about the macrocell."
   ]
  },
  {
   "cell_type": "markdown",
   "metadata": {},
   "source": [
    "#### Step 1.2.3: Complete Feature Selection\n",
    "\n",
    "In order to finish this step up, you need to make sure that your data frame now only has the columns that you want to keep. To summarize, the dataframe should consist of the following:\n",
    "- All numeric, interval, and ordinal type columns from the original dataset.\n",
    "- Binary categorical features (all numerically-encoded).\n",
    "- Engineered features from other multi-level categorical features and mixed features.\n",
    "\n",
    "Make sure that for any new columns that you have engineered, that you've excluded the original columns from the final dataset. Otherwise, their values will interfere with the analysis later on the project. For example, you should not keep \"PRAEGENDE_JUGENDJAHRE\", since its values won't be useful for the algorithm: only the values derived from it in the engineered features you created should be retained. As a reminder, your data should only be from **the subset with few or no missing values**."
   ]
  },
  {
   "cell_type": "code",
   "execution_count": 39,
   "metadata": {
    "deletable": false,
    "editable": false,
    "run_control": {
     "frozen": true
    }
   },
   "outputs": [
    {
     "data": {
      "text/plain": [
       "(759032, 147)"
      ]
     },
     "execution_count": 39,
     "metadata": {},
     "output_type": "execute_result"
    }
   ],
   "source": [
    "# If there are other re-engineering tasks you need to perform, make sure you\n",
    "# take care of them here. (Dealing with missing data will come in step 2.1.)\n",
    "\n",
    "azdias.shape"
   ]
  },
  {
   "cell_type": "code",
   "execution_count": 40,
   "metadata": {
    "deletable": false,
    "editable": false,
    "run_control": {
     "frozen": true
    }
   },
   "outputs": [
    {
     "name": "stdout",
     "output_type": "stream",
     "text": [
      "The following are the columns of the dataframe\n",
      "ALTERSKATEGORIE_GROB; ANREDE_KZ; FINANZ_MINIMALIST; FINANZ_SPARER; FINANZ_VORSORGER; FINANZ_ANLEGER; FINANZ_UNAUFFAELLIGER; FINANZ_HAUSBAUER; GREEN_AVANTGARDE; HEALTH_TYP; RETOURTYP_BK_S; SEMIO_SOZ; SEMIO_FAM; SEMIO_REL; SEMIO_MAT; SEMIO_VERT; SEMIO_LUST; SEMIO_ERL; SEMIO_KULT; SEMIO_RAT; SEMIO_KRIT; SEMIO_DOM; SEMIO_KAEM; SEMIO_PFLICHT; SEMIO_TRADV; SOHO_KZ; VERS_TYP; ANZ_PERSONEN; ANZ_TITEL; HH_EINKOMMEN_SCORE; W_KEIT_KIND_HH; WOHNDAUER_2008; ANZ_HAUSHALTE_AKTIV; ANZ_HH_TITEL; KONSUMNAEHE; MIN_GEBAEUDEJAHR; KBA05_ANTG1; KBA05_ANTG2; KBA05_ANTG3; KBA05_ANTG4; KBA05_GBZ; BALLRAUM; EWDICHTE; INNENSTADT; GEBAEUDETYP_RASTER; KKK; MOBI_REGIO; ONLINE_AFFINITAET; KBA13_ANZAHL_PKW; PLZ8_ANTG1; PLZ8_ANTG2; PLZ8_ANTG3; PLZ8_ANTG4; PLZ8_HHZ; PLZ8_GBZ; ARBEIT; ORTSGR_KLS9; RELAT_AB; CJT_GESAMTTYP_1.0; CJT_GESAMTTYP_2.0; CJT_GESAMTTYP_3.0; CJT_GESAMTTYP_4.0; CJT_GESAMTTYP_5.0; CJT_GESAMTTYP_6.0; FINANZTYP_1; FINANZTYP_2; FINANZTYP_3; FINANZTYP_4; FINANZTYP_5; FINANZTYP_6; LP_FAMILIE_GROB_1.0; LP_FAMILIE_GROB_2.0; LP_FAMILIE_GROB_3.0; LP_FAMILIE_GROB_4.0; LP_FAMILIE_GROB_5.0; LP_STATUS_GROB_1.0; LP_STATUS_GROB_2.0; LP_STATUS_GROB_3.0; LP_STATUS_GROB_4.0; LP_STATUS_GROB_5.0; NATIONALITAET_KZ_1.0; NATIONALITAET_KZ_2.0; NATIONALITAET_KZ_3.0; SHOPPER_TYP_0.0; SHOPPER_TYP_1.0; SHOPPER_TYP_2.0; SHOPPER_TYP_3.0; ZABEOTYP_1; ZABEOTYP_2; ZABEOTYP_3; ZABEOTYP_4; ZABEOTYP_5; ZABEOTYP_6; GEBAEUDETYP_1.0; GEBAEUDETYP_2.0; GEBAEUDETYP_3.0; GEBAEUDETYP_4.0; GEBAEUDETYP_5.0; GEBAEUDETYP_6.0; GEBAEUDETYP_8.0; CAMEO_DEUG_2015_1; CAMEO_DEUG_2015_2; CAMEO_DEUG_2015_3; CAMEO_DEUG_2015_4; CAMEO_DEUG_2015_5; CAMEO_DEUG_2015_6; CAMEO_DEUG_2015_7; CAMEO_DEUG_2015_8; CAMEO_DEUG_2015_9; GFK_URLAUBERTYP_1.0; GFK_URLAUBERTYP_2.0; GFK_URLAUBERTYP_3.0; GFK_URLAUBERTYP_4.0; GFK_URLAUBERTYP_5.0; GFK_URLAUBERTYP_6.0; GFK_URLAUBERTYP_7.0; GFK_URLAUBERTYP_8.0; GFK_URLAUBERTYP_9.0; GFK_URLAUBERTYP_10.0; GFK_URLAUBERTYP_11.0; GFK_URLAUBERTYP_12.0; OST_WEST_KZ_O; OST_WEST_KZ_W; PRAEGENDE_JUGENDJAHRE_40s; PRAEGENDE_JUGENDJAHRE_50s; PRAEGENDE_JUGENDJAHRE_60s; PRAEGENDE_JUGENDJAHRE_70s; PRAEGENDE_JUGENDJAHRE_80s; PRAEGENDE_JUGENDJAHRE_90s; PRAEGENDE_JUGENDJAHRE_Mainstream; CAMEO_INTL_2015_Wealthy; CAMEO_INTL_2015_Prosperous; CAMEO_INTL_2015_Comfortable; CAMEO_INTL_2015_Less Affluent; CAMEO_INTL_2015_Poorer; CAMEO_INTL_2015_Pre-Family Couples & Singles; CAMEO_INTL_2015_Young Couples With Children; CAMEO_INTL_2015_Families With School Age Children; CAMEO_INTL_2015_Older Families &  Mature Couples; CAMEO_INTL_2015_Elders In Retirement; WOHNLAGE_Very good neighborhood; WOHNLAGE_Good neighborhood; WOHNLAGE_Average neighborhood; WOHNLAGE_Poor neighborhood; WOHNLAGE_Very poor neighborhood; WOHNLAGE_Rural neighborhood; WOHNLAGE_New in rural neighborhood\n"
     ]
    }
   ],
   "source": [
    "# Do whatever you need to in order to ensure that the dataframe only contains\n",
    "# the columns that should be passed to the algorithm functions.\n",
    "\n",
    "assert \"KBA05_BAUMAX\" not in azdias.columns\n",
    "\n",
    "print(\"The following are the columns of the dataframe\")\n",
    "print(\"; \".join(azdias.columns))"
   ]
  },
  {
   "cell_type": "markdown",
   "metadata": {},
   "source": [
    "### Step 1.3: Create a Cleaning Function\n",
    "\n",
    "Even though you've finished cleaning up the general population demographics data, it's important to look ahead to the future and realize that you'll need to perform the same cleaning steps on the customer demographics data. In this substep, complete the function below to execute the main feature selection, encoding, and re-engineering steps you performed above. Then, when it comes to looking at the customer data in Step 3, you can just run this function on that DataFrame to get the trimmed dataset in a single step."
   ]
  },
  {
   "cell_type": "code",
   "execution_count": 37,
   "metadata": {},
   "outputs": [],
   "source": [
    "# The function is defined inside the utilites module\n",
    "\n",
    "from preprocessing import clean_data\n",
    "\n",
    "# to_be_dropped = [\"LP_FAMILIE_FEIN\", \"LP_STATUS_FEIN\", \"CAMEO_DEU_2015\", \"KBA05_BAUMAX\", \"PLZ8_BAUMAX\", \"LP_LEBENSPHASE_FEIN\", \"LP_LEBENSPHASE_GROB\"]\n",
    "# to_be_encoded = [\"CJT_GESAMTTYP\", \"FINANZTYP\", \"LP_FAMILIE_GROB\",\n",
    "# \"LP_STATUS_GROB\", \"NATIONALITAET_KZ\", \"SHOPPER_TYP\",\n",
    "# \"ZABEOTYP\", \"GEBAEUDETYP\", \"CAMEO_DEUG_2015\", \"GFK_URLAUBERTYP\"]"
   ]
  },
  {
   "cell_type": "markdown",
   "metadata": {},
   "source": [
    "## Step 2: Feature Transformation\n",
    "\n",
    "### Step 2.1: Apply Feature Scaling\n",
    "\n",
    "Before we apply dimensionality reduction techniques to the data, we need to perform feature scaling so that the principal component vectors are not influenced by the natural differences in scale for features. Starting from this part of the project, you'll want to keep an eye on the [API reference page for sklearn](http://scikit-learn.org/stable/modules/classes.html) to help you navigate to all of the classes and functions that you'll need. In this substep, you'll need to check the following:\n",
    "\n",
    "- sklearn requires that data not have missing values in order for its estimators to work properly. So, before applying the scaler to your data, make sure that you've cleaned the DataFrame of the remaining missing values. This can be as simple as just removing all data points with missing data, or applying an [Imputer](http://scikit-learn.org/stable/modules/generated/sklearn.preprocessing.Imputer.html) to replace all missing values. You might also try a more complicated procedure where you temporarily remove missing values in order to compute the scaling parameters before re-introducing those missing values and applying imputation. Think about how much missing data you have and what possible effects each approach might have on your analysis, and justify your decision in the discussion section below.\n",
    "- For the actual scaling function, a [StandardScaler](http://scikit-learn.org/stable/modules/generated/sklearn.preprocessing.StandardScaler.html) instance is suggested, scaling each feature to mean 0 and standard deviation 1.\n",
    "- For these classes, you can make use of the `.fit_transform()` method to both fit a procedure to the data as well as apply the transformation to the data at the same time. Don't forget to keep the fit sklearn objects handy, since you'll be applying them to the customer demographics data towards the end of the project."
   ]
  },
  {
   "cell_type": "code",
   "execution_count": 38,
   "metadata": {},
   "outputs": [
    {
     "name": "stdout",
     "output_type": "stream",
     "text": [
      "Number of rows with NaN values 126906 (16.719453198284132%)\n"
     ]
    }
   ],
   "source": [
    "# If you've not yet cleaned the dataset of all NaN values, then investigate and\n",
    "# do that now.\n",
    "\n",
    "nan_rows = azdias.isnull().sum(axis = \"columns\").astype(bool).sum()\n",
    "\n",
    "print(f\"Number of rows with NaN values {nan_rows} ({nan_rows/azdias.shape[0]*100}%)\")"
   ]
  },
  {
   "cell_type": "code",
   "execution_count": 39,
   "metadata": {},
   "outputs": [],
   "source": [
    "# Remove all rows with missing values and assert that there are no longer any NaN values\n",
    "\n",
    "azdias = azdias[~azdias.isnull().sum(axis = \"columns\").astype(bool)]\n",
    "assert azdias.isnull().sum().astype(bool).any() == False"
   ]
  },
  {
   "cell_type": "code",
   "execution_count": 40,
   "metadata": {},
   "outputs": [],
   "source": [
    "# Apply feature scaling to the general population demographics data.\n",
    "\n",
    "scaler = StandardScaler()\n",
    "azdias_np = scaler.fit_transform(azdias)"
   ]
  },
  {
   "cell_type": "markdown",
   "metadata": {},
   "source": [
    "### Discussion 2.1: Apply Feature Scaling\n",
    "\n",
    "We scaled the dataframe with the helps of StandardScaler from the `scikit` library but before we decided to drop all the rows with missing values because we think that the dataframe is big enough to remove 15% of the rows."
   ]
  },
  {
   "cell_type": "markdown",
   "metadata": {},
   "source": [
    "### Step 2.2: Perform Dimensionality Reduction\n",
    "\n",
    "On your scaled data, you are now ready to apply dimensionality reduction techniques.\n",
    "\n",
    "- Use sklearn's [PCA](http://scikit-learn.org/stable/modules/generated/sklearn.decomposition.PCA.html) class to apply principal component analysis on the data, thus finding the vectors of maximal variance in the data. To start, you should not set any parameters (so all components are computed) or set a number of components that is at least half the number of features (so there's enough features to see the general trend in variability).\n",
    "- Check out the ratio of variance explained by each principal component as well as the cumulative variance explained. Try plotting the cumulative or sequential values using matplotlib's [`plot()`](https://matplotlib.org/api/_as_gen/matplotlib.pyplot.plot.html) function. Based on what you find, select a value for the number of transformed features you'll retain for the clustering part of the project.\n",
    "- Once you've made a choice for the number of components to keep, make sure you re-fit a PCA instance to perform the decided-on transformation."
   ]
  },
  {
   "cell_type": "code",
   "execution_count": 45,
   "metadata": {
    "deletable": false,
    "editable": false,
    "run_control": {
     "frozen": true
    }
   },
   "outputs": [],
   "source": [
    "# Apply PCA to the data.\n",
    "half_columns = len(azdias.columns)//2\n",
    "pca = PCA(half_columns)\n",
    "azdias_processed_pca = pca.fit_transform(azdias_np)"
   ]
  },
  {
   "cell_type": "code",
   "execution_count": 41,
   "metadata": {},
   "outputs": [],
   "source": [
    "def scree_plot(pca):\n",
    "    '''\n",
    "    Creates a scree plot associated with the principal components \n",
    "    \n",
    "    INPUT: pca - the result of instantian of PCA in scikit learn\n",
    "            \n",
    "    OUTPUT:\n",
    "            None\n",
    "    '''\n",
    "    num_components=len(pca.explained_variance_ratio_)\n",
    "    ind = np.arange(num_components)\n",
    "    vals = pca.explained_variance_ratio_\n",
    " \n",
    "    plt.figure(figsize=(10, 6))\n",
    "    ax = plt.subplot(111)\n",
    "    cumvals = np.cumsum(vals)\n",
    "    ax.bar(ind, vals)\n",
    "    ax.plot(ind, cumvals)\n",
    "    for i in range(num_components):\n",
    "        ax.annotate(r\"%s%%\" % ((str(vals[i]*100)[:4])), (ind[i]+0.2, vals[i]), va=\"bottom\", ha=\"center\", fontsize=12)\n",
    " \n",
    "    ax.xaxis.set_tick_params(width=0)\n",
    "    ax.yaxis.set_tick_params(width=2, length=12)\n",
    " \n",
    "    ax.set_xlabel(\"Principal Component\")\n",
    "    ax.set_ylabel(\"Variance Explained (%)\")\n",
    "    plt.title('Explained Variance Per Principal Component')\n"
   ]
  },
  {
   "cell_type": "code",
   "execution_count": 47,
   "metadata": {
    "deletable": false,
    "editable": false,
    "run_control": {
     "frozen": true
    }
   },
   "outputs": [
    {
     "data": {
      "image/png": "[encoded data removed]",
      "text/plain": [
       "<Figure size 720x432 with 1 Axes>"
      ]
     },
     "metadata": {
      "needs_background": "light"
     },
     "output_type": "display_data"
    }
   ],
   "source": [
    "# Investigate the variance accounted for by each principal component.\n",
    "\n",
    "scree_plot(pca)"
   ]
  },
  {
   "cell_type": "code",
   "execution_count": 42,
   "metadata": {},
   "outputs": [],
   "source": [
    "# Re-apply PCA to the data while selecting for number of components to retain.\n",
    "\n",
    "pca = PCA(70)\n",
    "azdias_processed_pca = pca.fit_transform(azdias_np)"
   ]
  },
  {
   "cell_type": "markdown",
   "metadata": {},
   "source": [
    "### Discussion 2.2: Perform Dimensionality Reduction\n",
    "\n",
    "From the plot above we can see how many features we need to account to explain the variance in the dataset. We decided to keep 70 features and thus explaining more than 70% of variance inside the dataset."
   ]
  },
  {
   "cell_type": "markdown",
   "metadata": {},
   "source": [
    "### Step 2.3: Interpret Principal Components\n",
    "\n",
    "Now that we have our transformed principal components, it's a nice idea to check out the weight of each variable on the first few components to see if they can be interpreted in some fashion.\n",
    "\n",
    "As a reminder, each principal component is a unit vector that points in the direction of highest variance (after accounting for the variance captured by earlier principal components). The further a weight is from zero, the more the principal component is in the direction of the corresponding feature. If two features have large weights of the same sign (both positive or both negative), then increases in one tend expect to be associated with increases in the other. To contrast, features with different signs can be expected to show a negative correlation: increases in one variable should result in a decrease in the other.\n",
    "\n",
    "- To investigate the features, you should map each weight to their corresponding feature name, then sort the features according to weight. The most interesting features for each principal component, then, will be those at the beginning and end of the sorted list. Use the data dictionary document to help you understand these most prominent features, their relationships, and what a positive or negative value on the principal component might indicate.\n",
    "- You should investigate and interpret feature associations from the first three principal components in this substep. To help facilitate this, you should write a function that you can call at any time to print the sorted list of feature weights, for the *i*-th principal component. This might come in handy in the next step of the project, when you interpret the tendencies of the discovered clusters."
   ]
  },
  {
   "cell_type": "code",
   "execution_count": 49,
   "metadata": {
    "deletable": false,
    "editable": false,
    "run_control": {
     "frozen": true
    }
   },
   "outputs": [],
   "source": [
    "def principal_components_plot(dataframe, pca, index):\n",
    "    pd.DataFrame(pca.components_[index], index=dataframe.columns).sort_values([0]).plot.bar()"
   ]
  },
  {
   "cell_type": "code",
   "execution_count": 50,
   "metadata": {
    "deletable": false,
    "editable": false,
    "run_control": {
     "frozen": true
    }
   },
   "outputs": [],
   "source": [
    "def principal_components(dataframe, pca, index):\n",
    "    return pd.DataFrame(pca.components_[index], index=dataframe.columns).sort_values([0])"
   ]
  },
  {
   "cell_type": "code",
   "execution_count": 53,
   "metadata": {
    "deletable": false,
    "editable": false,
    "run_control": {
     "frozen": true
    }
   },
   "outputs": [
    {
     "name": "stdout",
     "output_type": "stream",
     "text": [
      "First component features sorted by weights\n",
      "FINANZ_MINIMALIST; MOBI_REGIO; KBA05_ANTG1; PLZ8_ANTG1; KBA05_GBZ; ALTERSKATEGORIE_GROB; FINANZ_VORSORGER; PLZ8_GBZ; KONSUMNAEHE; INNENSTADT\n",
      "FINANZ_HAUSBAUER; SEMIO_PFLICHT; FINANZTYP_1; EWDICHTE; ORTSGR_KLS9; FINANZ_SPARER; PLZ8_ANTG4; HH_EINKOMMEN_SCORE; PLZ8_ANTG3; LP_STATUS_GROB_1.0\n"
     ]
    }
   ],
   "source": [
    "# Map weights for the first principal component to corresponding feature names\n",
    "# and then print the linked values, sorted by weight.\n",
    "\n",
    "print(\"First component features sorted by weights\")\n",
    "print(\"; \".join(principal_components(azdias, pca, 0).index.tolist()[:10]))\n",
    "print(\"; \".join(principal_components(azdias, pca, 0).index.tolist()[-10:]))"
   ]
  },
  {
   "cell_type": "code",
   "execution_count": 54,
   "metadata": {
    "deletable": false,
    "editable": false,
    "run_control": {
     "frozen": true
    }
   },
   "outputs": [
    {
     "name": "stdout",
     "output_type": "stream",
     "text": [
      "Second component features sorted by weights\n",
      "SEMIO_REL; FINANZ_UNAUFFAELLIGER; SEMIO_PFLICHT; FINANZ_SPARER; SEMIO_TRADV; PRAEGENDE_JUGENDJAHRE_90s; FINANZ_ANLEGER; ONLINE_AFFINITAET; SEMIO_KULT; SEMIO_RAT\n",
      "PLZ8_ANTG4; PLZ8_ANTG3; W_KEIT_KIND_HH; FINANZ_HAUSBAUER; SEMIO_LUST; RETOURTYP_BK_S; SEMIO_ERL; FINANZ_VORSORGER; ZABEOTYP_3; ALTERSKATEGORIE_GROB\n"
     ]
    }
   ],
   "source": [
    "# Map weights for the second principal component to corresponding feature names\n",
    "# and then print the linked values, sorted by weight.\n",
    "\n",
    "print(\"Second component features sorted by weights\")\n",
    "print(\"; \".join(principal_components(azdias, pca, 1).index.tolist()[:10]))\n",
    "print(\"; \".join(principal_components(azdias, pca, 1).index.tolist()[-10:]))"
   ]
  },
  {
   "cell_type": "code",
   "execution_count": 55,
   "metadata": {
    "deletable": false,
    "editable": false,
    "run_control": {
     "frozen": true
    }
   },
   "outputs": [
    {
     "name": "stdout",
     "output_type": "stream",
     "text": [
      "Third component features sorted by weights\n",
      "ANREDE_KZ; SEMIO_KAEM; SEMIO_DOM; SEMIO_KRIT; SEMIO_ERL; SEMIO_RAT; FINANZ_ANLEGER; SHOPPER_TYP_2.0; FINANZTYP_1; ZABEOTYP_4\n",
      "RETOURTYP_BK_S; SEMIO_REL; ZABEOTYP_1; SHOPPER_TYP_0.0; FINANZ_MINIMALIST; FINANZTYP_5; SEMIO_KULT; SEMIO_SOZ; SEMIO_FAM; SEMIO_VERT\n"
     ]
    }
   ],
   "source": [
    "# Map weights for the third principal component to corresponding feature names\n",
    "# and then print the linked values, sorted by weight.\n",
    "\n",
    "print(\"Third component features sorted by weights\")\n",
    "print(\"; \".join(principal_components(azdias, pca, 2).index.tolist()[:10]))\n",
    "print(\"; \".join(principal_components(azdias, pca, 2).index.tolist()[-10:]))"
   ]
  },
  {
   "cell_type": "markdown",
   "metadata": {},
   "source": [
    "### Discussion 2.3: Interpret Principal Components\n",
    "\n",
    "From the list of components we can see that the first PCA component, the one which carries the most variance, is mostly oriented towards the features FINANZ_MINIMALIST, MOBI_REGIO (positevely) and PLZ8_ANTG3; LP_STATUS_GROB_1.0 (negatively).\n",
    "\n",
    "The second PCA component is mostly oriented towards the features SEMIO_REL, FINANZ_UNAUFFAELLIGER (positevely) and FINANZ_VORSORGER; ZABEOTYP_3; ALTERSKATEGORIE_GROB (negatively).\n",
    "\n",
    "The third PCA component is mostly oriented towards the features ANREDE_KZ; SEMIO_KAEM (positevely) and SEMIO_FAM; SEMIO_VERT (negatively)."
   ]
  },
  {
   "cell_type": "markdown",
   "metadata": {},
   "source": [
    "## Step 3: Clustering\n",
    "\n",
    "### Step 3.1: Apply Clustering to General Population\n",
    "\n",
    "You've assessed and cleaned the demographics data, then scaled and transformed them. Now, it's time to see how the data clusters in the principal components space. In this substep, you will apply k-means clustering to the dataset and use the average within-cluster distances from each point to their assigned cluster's centroid to decide on a number of clusters to keep.\n",
    "\n",
    "- Use sklearn's [KMeans](http://scikit-learn.org/stable/modules/generated/sklearn.cluster.KMeans.html#sklearn.cluster.KMeans) class to perform k-means clustering on the PCA-transformed data.\n",
    "- Then, compute the average difference from each point to its assigned cluster's center. **Hint**: The KMeans object's `.score()` method might be useful here, but note that in sklearn, scores tend to be defined so that larger is better. Try applying it to a small, toy dataset, or use an internet search to help your understanding.\n",
    "- Perform the above two steps for a number of different cluster counts. You can then see how the average distance decreases with an increasing number of clusters. However, each additional cluster provides a smaller net benefit. Use this fact to select a final number of clusters in which to group the data. **Warning**: because of the large size of the dataset, it can take a long time for the algorithm to resolve. The more clusters to fit, the longer the algorithm will take. You should test for cluster counts through at least 10 clusters to get the full picture, but you shouldn't need to test for a number of clusters above about 30.\n",
    "- Once you've selected a final number of clusters to use, re-fit a KMeans instance to perform the clustering operation. Make sure that you also obtain the cluster assignments for the general demographics data, since you'll be using them in the final Step 3.3."
   ]
  },
  {
   "cell_type": "code",
   "execution_count": 88,
   "metadata": {
    "deletable": false,
    "editable": false,
    "run_control": {
     "frozen": true
    }
   },
   "outputs": [],
   "source": [
    "def metric(data, centroids, cluster_labels):\n",
    "    total_distance = []\n",
    "    \n",
    "    for i, centroid in enumerate(centroids):\n",
    "        mean_distance = np.mean((data[cluster_labels == i] - centroid)**2)\n",
    "        total_distance.append(mean_distance)\n",
    "        \n",
    "    return np.mean(total_distance)\n",
    "\n",
    "\n",
    "scores = []\n",
    "sse = []\n",
    "\n",
    "# Over a number of different cluster counts...\n",
    "for k in range(1, 30, 2):\n",
    "    # run k-means clustering on the data and...\n",
    "    kmeans = KMeans(k)\n",
    "    model = kmeans.fit(azdias_processed_pca)\n",
    "    labels = model.predict(azdias_processed_pca)\n",
    "        \n",
    "    # compute the average within-cluster distances.\n",
    "    # Obtain the score for each model (take the absolute value)\n",
    "    scores.append(metric(azdias_processed_pca, model.cluster_centers_, labels))\n",
    "    sse.append(abs(model.score(azdias_processed_pca)))\n"
   ]
  },
  {
   "cell_type": "code",
   "execution_count": 89,
   "metadata": {
    "deletable": false,
    "editable": false,
    "run_control": {
     "frozen": true
    },
    "scrolled": false
   },
   "outputs": [
    {
     "data": {
      "text/plain": [
       "<matplotlib.axes._subplots.AxesSubplot at 0x7f4ddcb38750>"
      ]
     },
     "execution_count": 89,
     "metadata": {},
     "output_type": "execute_result"
    },
    {
     "data": {
      "image/png": "[encoded data removed]",
      "text/plain": [
       "<Figure size 432x288 with 1 Axes>"
      ]
     },
     "metadata": {
      "needs_background": "light"
     },
     "output_type": "display_data"
    }
   ],
   "source": [
    "# Investigate the change in within-cluster distance across number of clusters.\n",
    "# HINT: Use matplotlib's plot function to visualize this relationship.\n",
    "\n",
    "pd.DataFrame({\"k\": range(1, 30, 2), \"score\": scores}).plot.scatter(x=\"k\", y=\"score\")"
   ]
  },
  {
   "cell_type": "code",
   "execution_count": 90,
   "metadata": {
    "deletable": false,
    "editable": false,
    "run_control": {
     "frozen": true
    },
    "scrolled": true
   },
   "outputs": [
    {
     "data": {
      "text/plain": [
       "<matplotlib.axes._subplots.AxesSubplot at 0x7f4ddc20d090>"
      ]
     },
     "execution_count": 90,
     "metadata": {},
     "output_type": "execute_result"
    },
    {
     "data": {
      "image/png": "[encoded data removed]",
      "text/plain": [
       "<Figure size 432x288 with 1 Axes>"
      ]
     },
     "metadata": {
      "needs_background": "light"
     },
     "output_type": "display_data"
    }
   ],
   "source": [
    "pd.DataFrame({\"k\": range(1, 30, 2), \"score\": sse}).plot.scatter(x=\"k\", y=\"score\")"
   ]
  },
  {
   "cell_type": "code",
   "execution_count": null,
   "metadata": {},
   "outputs": [],
   "source": [
    "# Re-fit the k-means model with the selected number of clusters and obtain\n",
    "# cluster predictions for the general population demographics data.\n",
    "\n",
    "kmeans = KMeans(11)\n",
    "model = kmeans.fit(azdias_processed_pca)\n",
    "labels = model.predict(azdias_processed_pca)"
   ]
  },
  {
   "cell_type": "markdown",
   "metadata": {},
   "source": [
    "### Discussion 3.1: Apply Clustering to General Population\n",
    "\n",
    "The plot above shows us the value of the maean intra-cluster distance for each partitioning. We choose to segment the dataframe into 11 cluster because it is the value with the lowest value for the score."
   ]
  },
  {
   "cell_type": "markdown",
   "metadata": {},
   "source": [
    "### Step 3.2: Apply All Steps to the Customer Data\n",
    "\n",
    "Now that you have clusters and cluster centers for the general population, it's time to see how the customer data maps on to those clusters. Take care to not confuse this for re-fitting all of the models to the customer data. Instead, you're going to use the fits from the general population to clean, transform, and cluster the customer data. In the last step of the project, you will interpret how the general population fits apply to the customer data.\n",
    "\n",
    "- Don't forget when loading in the customers data, that it is semicolon (`;`) delimited.\n",
    "- Apply the same feature wrangling, selection, and engineering steps to the customer demographics using the `clean_data()` function you created earlier. (You can assume that the customer demographics data has similar meaning behind missing data patterns as the general demographics data.)\n",
    "- Use the sklearn objects from the general demographics data, and apply their transformations to the customers data. That is, you should not be using a `.fit()` or `.fit_transform()` method to re-fit the old objects, nor should you be creating new sklearn objects! Carry the data through the feature scaling, PCA, and clustering steps, obtaining cluster assignments for all of the data in the customer demographics data."
   ]
  },
  {
   "cell_type": "code",
   "execution_count": 75,
   "metadata": {},
   "outputs": [],
   "source": [
    "import pandas as pd\n",
    "\n",
    "# Load in the customer demographics data.\n",
    "customers = pd.read_csv(\"Udacity_CUSTOMERS_Subset.csv\", sep=\";\")"
   ]
  },
  {
   "cell_type": "code",
   "execution_count": 76,
   "metadata": {},
   "outputs": [
    {
     "name": "stdout",
     "output_type": "stream",
     "text": [
      "Encoding mixed variable PRAEGENDE_JUGENDJAHRE\n",
      "Encoding mixed variable CAMEO_INTL_2015\n",
      "Encoding mixed variable WOHNLAGE\n"
     ]
    }
   ],
   "source": [
    "# Apply preprocessing, feature transformation, and clustering from the general\n",
    "# demographics onto the customer data, obtaining cluster predictions for the\n",
    "# customer demographics data.\n",
    "\n",
    "import importlib\n",
    "import preprocessing\n",
    "importlib.reload(preprocessing)\n",
    "\n",
    "to_be_dropped = [\"LP_FAMILIE_FEIN\", \"LP_STATUS_FEIN\", \"CAMEO_DEU_2015\", \"KBA05_BAUMAX\", \"PLZ8_BAUMAX\", \"LP_LEBENSPHASE_FEIN\", \"LP_LEBENSPHASE_GROB\", \"TITEL_KZ\", \"AGER_TYP\", \"KK_KUNDENTYP\", \"KBA05_BAUMAX\", \"GEBURTSJAHR\", \"ALTER_HH\", \"REGIOTYP\"]\n",
    "to_be_encoded = [\"CJT_GESAMTTYP\", \"FINANZTYP\", \"LP_FAMILIE_GROB\", \"LP_STATUS_GROB\", \"NATIONALITAET_KZ\", \"SHOPPER_TYP\", \"ZABEOTYP\", \"GEBAEUDETYP\", \"CAMEO_DEUG_2015\", \"GFK_URLAUBERTYP\", \"OST_WEST_KZ\"]\n",
    "\n",
    "customers_cleaned = preprocessing.clean_data(customers, feat_info, to_be_dropped, to_be_encoded)\n",
    "\n",
    "index = azdias.columns.get_loc(\"GEBAEUDETYP_5.0\")\n",
    "customers_cleaned.insert (index, \"GEBAEUDETYP_5.0\", 0)"
   ]
  },
  {
   "cell_type": "code",
   "execution_count": 77,
   "metadata": {
    "scrolled": true
   },
   "outputs": [
    {
     "data": {
      "text/html": [
       "<div>\n",
       "<style scoped>\n",
       "    .dataframe tbody tr th:only-of-type {\n",
       "        vertical-align: middle;\n",
       "    }\n",
       "\n",
       "    .dataframe tbody tr th {\n",
       "        vertical-align: top;\n",
       "    }\n",
       "\n",
       "    .dataframe thead th {\n",
       "        text-align: right;\n",
       "    }\n",
       "</style>\n",
       "<table border=\"1\" class=\"dataframe\">\n",
       "  <thead>\n",
       "    <tr style=\"text-align: right;\">\n",
       "      <th></th>\n",
       "      <th>ALTERSKATEGORIE_GROB</th>\n",
       "      <th>ANREDE_KZ</th>\n",
       "      <th>FINANZ_MINIMALIST</th>\n",
       "      <th>FINANZ_SPARER</th>\n",
       "      <th>FINANZ_VORSORGER</th>\n",
       "      <th>FINANZ_ANLEGER</th>\n",
       "      <th>FINANZ_UNAUFFAELLIGER</th>\n",
       "      <th>FINANZ_HAUSBAUER</th>\n",
       "      <th>GREEN_AVANTGARDE</th>\n",
       "      <th>HEALTH_TYP</th>\n",
       "      <th>...</th>\n",
       "      <th>CAMEO_INTL_2015_Families With School Age Children</th>\n",
       "      <th>CAMEO_INTL_2015_Older Families &amp;  Mature Couples</th>\n",
       "      <th>CAMEO_INTL_2015_Elders In Retirement</th>\n",
       "      <th>WOHNLAGE_Very good neighborhood</th>\n",
       "      <th>WOHNLAGE_Good neighborhood</th>\n",
       "      <th>WOHNLAGE_Average neighborhood</th>\n",
       "      <th>WOHNLAGE_Poor neighborhood</th>\n",
       "      <th>WOHNLAGE_Very poor neighborhood</th>\n",
       "      <th>WOHNLAGE_Rural neighborhood</th>\n",
       "      <th>WOHNLAGE_New in rural neighborhood</th>\n",
       "    </tr>\n",
       "  </thead>\n",
       "  <tbody>\n",
       "    <tr>\n",
       "      <td>0</td>\n",
       "      <td>4.0</td>\n",
       "      <td>1</td>\n",
       "      <td>5</td>\n",
       "      <td>1</td>\n",
       "      <td>5</td>\n",
       "      <td>1</td>\n",
       "      <td>2</td>\n",
       "      <td>2</td>\n",
       "      <td>1</td>\n",
       "      <td>1.0</td>\n",
       "      <td>...</td>\n",
       "      <td>0</td>\n",
       "      <td>0</td>\n",
       "      <td>0</td>\n",
       "      <td>0</td>\n",
       "      <td>0</td>\n",
       "      <td>0</td>\n",
       "      <td>0</td>\n",
       "      <td>0</td>\n",
       "      <td>1</td>\n",
       "      <td>0</td>\n",
       "    </tr>\n",
       "    <tr>\n",
       "      <td>2</td>\n",
       "      <td>4.0</td>\n",
       "      <td>2</td>\n",
       "      <td>5</td>\n",
       "      <td>1</td>\n",
       "      <td>5</td>\n",
       "      <td>1</td>\n",
       "      <td>4</td>\n",
       "      <td>4</td>\n",
       "      <td>1</td>\n",
       "      <td>2.0</td>\n",
       "      <td>...</td>\n",
       "      <td>0</td>\n",
       "      <td>0</td>\n",
       "      <td>0</td>\n",
       "      <td>0</td>\n",
       "      <td>1</td>\n",
       "      <td>0</td>\n",
       "      <td>0</td>\n",
       "      <td>0</td>\n",
       "      <td>0</td>\n",
       "      <td>0</td>\n",
       "    </tr>\n",
       "    <tr>\n",
       "      <td>3</td>\n",
       "      <td>4.0</td>\n",
       "      <td>1</td>\n",
       "      <td>5</td>\n",
       "      <td>1</td>\n",
       "      <td>5</td>\n",
       "      <td>2</td>\n",
       "      <td>1</td>\n",
       "      <td>2</td>\n",
       "      <td>0</td>\n",
       "      <td>2.0</td>\n",
       "      <td>...</td>\n",
       "      <td>0</td>\n",
       "      <td>0</td>\n",
       "      <td>0</td>\n",
       "      <td>0</td>\n",
       "      <td>0</td>\n",
       "      <td>0</td>\n",
       "      <td>0</td>\n",
       "      <td>0</td>\n",
       "      <td>1</td>\n",
       "      <td>0</td>\n",
       "    </tr>\n",
       "    <tr>\n",
       "      <td>4</td>\n",
       "      <td>3.0</td>\n",
       "      <td>1</td>\n",
       "      <td>3</td>\n",
       "      <td>1</td>\n",
       "      <td>4</td>\n",
       "      <td>4</td>\n",
       "      <td>5</td>\n",
       "      <td>2</td>\n",
       "      <td>0</td>\n",
       "      <td>3.0</td>\n",
       "      <td>...</td>\n",
       "      <td>0</td>\n",
       "      <td>0</td>\n",
       "      <td>0</td>\n",
       "      <td>0</td>\n",
       "      <td>0</td>\n",
       "      <td>1</td>\n",
       "      <td>0</td>\n",
       "      <td>0</td>\n",
       "      <td>0</td>\n",
       "      <td>0</td>\n",
       "    </tr>\n",
       "    <tr>\n",
       "      <td>5</td>\n",
       "      <td>3.0</td>\n",
       "      <td>1</td>\n",
       "      <td>5</td>\n",
       "      <td>1</td>\n",
       "      <td>5</td>\n",
       "      <td>1</td>\n",
       "      <td>2</td>\n",
       "      <td>3</td>\n",
       "      <td>1</td>\n",
       "      <td>3.0</td>\n",
       "      <td>...</td>\n",
       "      <td>0</td>\n",
       "      <td>0</td>\n",
       "      <td>0</td>\n",
       "      <td>1</td>\n",
       "      <td>0</td>\n",
       "      <td>0</td>\n",
       "      <td>0</td>\n",
       "      <td>0</td>\n",
       "      <td>0</td>\n",
       "      <td>0</td>\n",
       "    </tr>\n",
       "  </tbody>\n",
       "</table>\n",
       "<p>5 rows × 147 columns</p>\n",
       "</div>"
      ],
      "text/plain": [
       "   ALTERSKATEGORIE_GROB  ANREDE_KZ  FINANZ_MINIMALIST  FINANZ_SPARER  \\\n",
       "0                   4.0          1                  5              1   \n",
       "2                   4.0          2                  5              1   \n",
       "3                   4.0          1                  5              1   \n",
       "4                   3.0          1                  3              1   \n",
       "5                   3.0          1                  5              1   \n",
       "\n",
       "   FINANZ_VORSORGER  FINANZ_ANLEGER  FINANZ_UNAUFFAELLIGER  FINANZ_HAUSBAUER  \\\n",
       "0                 5               1                      2                 2   \n",
       "2                 5               1                      4                 4   \n",
       "3                 5               2                      1                 2   \n",
       "4                 4               4                      5                 2   \n",
       "5                 5               1                      2                 3   \n",
       "\n",
       "   GREEN_AVANTGARDE  HEALTH_TYP  ...  \\\n",
       "0                 1         1.0  ...   \n",
       "2                 1         2.0  ...   \n",
       "3                 0         2.0  ...   \n",
       "4                 0         3.0  ...   \n",
       "5                 1         3.0  ...   \n",
       "\n",
       "   CAMEO_INTL_2015_Families With School Age Children  \\\n",
       "0                                                  0   \n",
       "2                                                  0   \n",
       "3                                                  0   \n",
       "4                                                  0   \n",
       "5                                                  0   \n",
       "\n",
       "   CAMEO_INTL_2015_Older Families &  Mature Couples  \\\n",
       "0                                                 0   \n",
       "2                                                 0   \n",
       "3                                                 0   \n",
       "4                                                 0   \n",
       "5                                                 0   \n",
       "\n",
       "   CAMEO_INTL_2015_Elders In Retirement  WOHNLAGE_Very good neighborhood  \\\n",
       "0                                     0                                0   \n",
       "2                                     0                                0   \n",
       "3                                     0                                0   \n",
       "4                                     0                                0   \n",
       "5                                     0                                1   \n",
       "\n",
       "   WOHNLAGE_Good neighborhood  WOHNLAGE_Average neighborhood  \\\n",
       "0                           0                              0   \n",
       "2                           1                              0   \n",
       "3                           0                              0   \n",
       "4                           0                              1   \n",
       "5                           0                              0   \n",
       "\n",
       "   WOHNLAGE_Poor neighborhood  WOHNLAGE_Very poor neighborhood  \\\n",
       "0                           0                                0   \n",
       "2                           0                                0   \n",
       "3                           0                                0   \n",
       "4                           0                                0   \n",
       "5                           0                                0   \n",
       "\n",
       "   WOHNLAGE_Rural neighborhood  WOHNLAGE_New in rural neighborhood  \n",
       "0                            1                                   0  \n",
       "2                            0                                   0  \n",
       "3                            1                                   0  \n",
       "4                            0                                   0  \n",
       "5                            0                                   0  \n",
       "\n",
       "[5 rows x 147 columns]"
      ]
     },
     "execution_count": 77,
     "metadata": {},
     "output_type": "execute_result"
    }
   ],
   "source": [
    "customers_cleaned.head()"
   ]
  },
  {
   "cell_type": "code",
   "execution_count": 83,
   "metadata": {},
   "outputs": [],
   "source": [
    "customers_cleaned = customers_cleaned[customers_cleaned.isnull().sum(\"columns\") == 0]"
   ]
  },
  {
   "cell_type": "code",
   "execution_count": 87,
   "metadata": {},
   "outputs": [
    {
     "name": "stdout",
     "output_type": "stream",
     "text": [
      "(116132, 70)\n"
     ]
    },
    {
     "ename": "ValueError",
     "evalue": "Incorrect number of features. Got 70 features, expected 147",
     "output_type": "error",
     "traceback": [
      "\u001b[0;31m---------------------------------------------------------------------------\u001b[0m",
      "\u001b[0;31mValueError\u001b[0m                                Traceback (most recent call last)",
      "\u001b[0;32m<ipython-input-87-d92492f00ef2>\u001b[0m in \u001b[0;36m<module>\u001b[0;34m\u001b[0m\n\u001b[1;32m      1\u001b[0m \u001b[0mcustomers_pca\u001b[0m \u001b[0;34m=\u001b[0m \u001b[0mpca\u001b[0m\u001b[0;34m.\u001b[0m\u001b[0mtransform\u001b[0m\u001b[0;34m(\u001b[0m\u001b[0mcustomers_cleaned\u001b[0m\u001b[0;34m)\u001b[0m\u001b[0;34m\u001b[0m\u001b[0;34m\u001b[0m\u001b[0m\n\u001b[1;32m      2\u001b[0m \u001b[0mprint\u001b[0m\u001b[0;34m(\u001b[0m\u001b[0mcustomers_pca\u001b[0m\u001b[0;34m.\u001b[0m\u001b[0mshape\u001b[0m\u001b[0;34m)\u001b[0m\u001b[0;34m\u001b[0m\u001b[0;34m\u001b[0m\u001b[0m\n\u001b[0;32m----> 3\u001b[0;31m \u001b[0mcustomers_prediction\u001b[0m \u001b[0;34m=\u001b[0m \u001b[0mmodel\u001b[0m\u001b[0;34m.\u001b[0m\u001b[0mpredict\u001b[0m\u001b[0;34m(\u001b[0m\u001b[0mcustomers_pca\u001b[0m\u001b[0;34m)\u001b[0m\u001b[0;34m\u001b[0m\u001b[0;34m\u001b[0m\u001b[0m\n\u001b[0m",
      "\u001b[0;32m~/miniconda3/envs/udacity-ml/lib/python3.7/site-packages/sklearn/cluster/k_means_.py\u001b[0m in \u001b[0;36mpredict\u001b[0;34m(self, X, sample_weight)\u001b[0m\n\u001b[1;32m   1072\u001b[0m         \u001b[0mcheck_is_fitted\u001b[0m\u001b[0;34m(\u001b[0m\u001b[0mself\u001b[0m\u001b[0;34m,\u001b[0m \u001b[0;34m'cluster_centers_'\u001b[0m\u001b[0;34m)\u001b[0m\u001b[0;34m\u001b[0m\u001b[0;34m\u001b[0m\u001b[0m\n\u001b[1;32m   1073\u001b[0m \u001b[0;34m\u001b[0m\u001b[0m\n\u001b[0;32m-> 1074\u001b[0;31m         \u001b[0mX\u001b[0m \u001b[0;34m=\u001b[0m \u001b[0mself\u001b[0m\u001b[0;34m.\u001b[0m\u001b[0m_check_test_data\u001b[0m\u001b[0;34m(\u001b[0m\u001b[0mX\u001b[0m\u001b[0;34m)\u001b[0m\u001b[0;34m\u001b[0m\u001b[0;34m\u001b[0m\u001b[0m\n\u001b[0m\u001b[1;32m   1075\u001b[0m         \u001b[0mx_squared_norms\u001b[0m \u001b[0;34m=\u001b[0m \u001b[0mrow_norms\u001b[0m\u001b[0;34m(\u001b[0m\u001b[0mX\u001b[0m\u001b[0;34m,\u001b[0m \u001b[0msquared\u001b[0m\u001b[0;34m=\u001b[0m\u001b[0;32mTrue\u001b[0m\u001b[0;34m)\u001b[0m\u001b[0;34m\u001b[0m\u001b[0;34m\u001b[0m\u001b[0m\n\u001b[1;32m   1076\u001b[0m         return _labels_inertia(X, sample_weight, x_squared_norms,\n",
      "\u001b[0;32m~/miniconda3/envs/udacity-ml/lib/python3.7/site-packages/sklearn/cluster/k_means_.py\u001b[0m in \u001b[0;36m_check_test_data\u001b[0;34m(self, X)\u001b[0m\n\u001b[1;32m    935\u001b[0m             raise ValueError(\"Incorrect number of features. \"\n\u001b[1;32m    936\u001b[0m                              \"Got %d features, expected %d\" % (\n\u001b[0;32m--> 937\u001b[0;31m                                  n_features, expected_n_features))\n\u001b[0m\u001b[1;32m    938\u001b[0m \u001b[0;34m\u001b[0m\u001b[0m\n\u001b[1;32m    939\u001b[0m         \u001b[0;32mreturn\u001b[0m \u001b[0mX\u001b[0m\u001b[0;34m\u001b[0m\u001b[0;34m\u001b[0m\u001b[0m\n",
      "\u001b[0;31mValueError\u001b[0m: Incorrect number of features. Got 70 features, expected 147"
     ]
    }
   ],
   "source": [
    "customers_pca = pca.transform(customers_cleaned)\n",
    "print(customers_pca.shape)\n",
    "customers_prediction = model.predict(customers_pca)"
   ]
  },
  {
   "cell_type": "markdown",
   "metadata": {},
   "source": [
    "### Step 3.3: Compare Customer Data to Demographics Data\n",
    "\n",
    "At this point, you have clustered data based on demographics of the general population of Germany, and seen how the customer data for a mail-order sales company maps onto those demographic clusters. In this final substep, you will compare the two cluster distributions to see where the strongest customer base for the company is.\n",
    "\n",
    "Consider the proportion of persons in each cluster for the general population, and the proportions for the customers. If we think the company's customer base to be universal, then the cluster assignment proportions should be fairly similar between the two. If there are only particular segments of the population that are interested in the company's products, then we should see a mismatch from one to the other. If there is a higher proportion of persons in a cluster for the customer data compared to the general population (e.g. 5% of persons are assigned to a cluster for the general population, but 15% of the customer data is closest to that cluster's centroid) then that suggests the people in that cluster to be a target audience for the company. On the other hand, the proportion of the data in a cluster being larger in the general population than the customer data (e.g. only 2% of customers closest to a population centroid that captures 6% of the data) suggests that group of persons to be outside of the target demographics.\n",
    "\n",
    "Take a look at the following points in this step:\n",
    "\n",
    "- Compute the proportion of data points in each cluster for the general population and the customer data. Visualizations will be useful here: both for the individual dataset proportions, but also to visualize the ratios in cluster representation between groups. Seaborn's [`countplot()`](https://seaborn.pydata.org/generated/seaborn.countplot.html) or [`barplot()`](https://seaborn.pydata.org/generated/seaborn.barplot.html) function could be handy.\n",
    "  - Recall the analysis you performed in step 1.1.3 of the project, where you separated out certain data points from the dataset if they had more than a specified threshold of missing values. If you found that this group was qualitatively different from the main bulk of the data, you should treat this as an additional data cluster in this analysis. Make sure that you account for the number of data points in this subset, for both the general population and customer datasets, when making your computations!\n",
    "- Which cluster or clusters are overrepresented in the customer dataset compared to the general population? Select at least one such cluster and infer what kind of people might be represented by that cluster. Use the principal component interpretations from step 2.3 or look at additional components to help you make this inference. Alternatively, you can use the `.inverse_transform()` method of the PCA and StandardScaler objects to transform centroids back to the original data space and interpret the retrieved values directly.\n",
    "- Perform a similar investigation for the underrepresented clusters. Which cluster or clusters are underrepresented in the customer dataset compared to the general population, and what kinds of people are typified by these clusters?"
   ]
  },
  {
   "cell_type": "code",
   "execution_count": null,
   "metadata": {},
   "outputs": [],
   "source": [
    "# Compare the proportion of data in each cluster for the customer data to the\n",
    "# proportion of data in each cluster for the general population.\n",
    "\n"
   ]
  },
  {
   "cell_type": "code",
   "execution_count": null,
   "metadata": {},
   "outputs": [],
   "source": [
    "# What kinds of people are part of a cluster that is overrepresented in the\n",
    "# customer data compared to the general population?\n",
    "\n"
   ]
  },
  {
   "cell_type": "code",
   "execution_count": null,
   "metadata": {},
   "outputs": [],
   "source": [
    "# What kinds of people are part of a cluster that is underrepresented in the\n",
    "# customer data compared to the general population?\n",
    "\n"
   ]
  },
  {
   "cell_type": "markdown",
   "metadata": {},
   "source": [
    "### Discussion 3.3: Compare Customer Data to Demographics Data\n",
    "\n",
    "(Double-click this cell and replace this text with your own text, reporting findings and conclusions from the clustering analysis. Can we describe segments of the population that are relatively popular with the mail-order company, or relatively unpopular with the company?)"
   ]
  },
  {
   "cell_type": "markdown",
   "metadata": {},
   "source": [
    "> Congratulations on making it this far in the project! Before you finish, make sure to check through the entire notebook from top to bottom to make sure that your analysis follows a logical flow and all of your findings are documented in **Discussion** cells. Once you've checked over all of your work, you should export the notebook as an HTML document to submit for evaluation. You can do this from the menu, navigating to **File -> Download as -> HTML (.html)**. You will submit both that document and this notebook for your project submission."
   ]
  },
  {
   "cell_type": "code",
   "execution_count": null,
   "metadata": {},
   "outputs": [],
   "source": []
  }
 ],
 "metadata": {
  "kernelspec": {
   "display_name": "Python 3",
   "language": "python",
   "name": "python3"
  },
  "language_info": {
   "codemirror_mode": {
    "name": "ipython",
    "version": 3
   },
   "file_extension": ".py",
   "mimetype": "text/x-python",
   "name": "python",
   "nbconvert_exporter": "python",
   "pygments_lexer": "ipython3",
   "version": "3.7.4"
  }
 },
 "nbformat": 4,
 "nbformat_minor": 2
}

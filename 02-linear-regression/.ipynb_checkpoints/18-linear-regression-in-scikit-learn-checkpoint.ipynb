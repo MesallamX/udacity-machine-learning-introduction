{
 "cells": [
  {
   "cell_type": "markdown",
   "metadata": {},
   "source": [
    "# Linear Regression in scikit-learn"
   ]
  },
  {
   "cell_type": "code",
   "execution_count": 1,
   "metadata": {},
   "outputs": [],
   "source": [
    "from sklearn.linear_model import LinearRegression\n",
    "from pandas import read_csv\n",
    "\n",
    "# this function returns a DataFrame\n",
    "bmi_life_data = read_csv(\"18-bmi-and-life-expectancy.csv\")\n",
    "\n",
    "# select a column from the DataFrame and convert it to a numpy array\n",
    "bmi = bmi_life_data[\"BMI\"].values\n",
    "life_expectancy = bmi_life_data[\"Life expectancy\"].values\n",
    "\n",
    "# the fit function wants a matrix as input\n",
    "bmi = bmi.reshape(1, -1)  # a value of -1 let it be inferred from the length of the array\n",
    "life_expectancy = life_expectancy.reshape(1, -1)\n",
    "\n",
    "bmi_life_model = LinearRegression()\n",
    "bmi_life_model.fit(bmi.transpose(), life_expectancy.transpose())\n",
    "\n",
    "laos_life_exp = bmi_life_model.predict([[21.07931]])"
   ]
  }
 ],
 "metadata": {
  "kernelspec": {
   "display_name": "Python [conda env:root] *",
   "language": "python",
   "name": "conda-root-py"
  },
  "language_info": {
   "codemirror_mode": {
    "name": "ipython",
    "version": 3
   },
   "file_extension": ".py",
   "mimetype": "text/x-python",
   "name": "python",
   "nbconvert_exporter": "python",
   "pygments_lexer": "ipython3",
   "version": "3.7.3"
  }
 },
 "nbformat": 4,
 "nbformat_minor": 2
}
